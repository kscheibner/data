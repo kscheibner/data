{
  "nbformat": 4,
  "nbformat_minor": 0,
  "metadata": {
    "colab": {
      "name": "NLP_Summative.ipynb",
      "provenance": [],
      "collapsed_sections": [
        "seFn0A89e2l0",
        "pVuhAYqiguPo",
        "BFGB3GnI7lsF",
        "VDABOOP00rTl",
        "mYqKwwRIhsnT",
        "GclFVUrXlpdj",
        "pKAbtsgUNC1x"
      ],
      "machine_shape": "hm",
      "authorship_tag": "ABX9TyMcDqtdsl9moTIX59qJhlk7",
      "include_colab_link": true
    },
    "kernelspec": {
      "name": "python3",
      "display_name": "Python 3"
    },
    "language_info": {
      "name": "python"
    },
    "accelerator": "GPU"
  },
  "cells": [
    {
      "cell_type": "markdown",
      "metadata": {
        "id": "view-in-github",
        "colab_type": "text"
      },
      "source": [
        "<a href=\"https://colab.research.google.com/github/kscheibner/data/blob/master/NLP_Summative_draft1.ipynb\" target=\"_parent\"><img src=\"https://colab.research.google.com/assets/colab-badge.svg\" alt=\"Open In Colab\"/></a>"
      ]
    },
    {
      "cell_type": "markdown",
      "source": [
        "# Notebook Setup"
      ],
      "metadata": {
        "id": "QCWUuTzOwDGv"
      }
    },
    {
      "cell_type": "code",
      "source": [
        "!pip install transformers"
      ],
      "metadata": {
        "id": "0w4wI6GVXklG",
        "colab": {
          "base_uri": "https://localhost:8080/",
          "height": 0
        },
        "outputId": "c7db6575-0914-4cd0-9f8d-6c7d32d1f0b9"
      },
      "execution_count": 1,
      "outputs": [
        {
          "output_type": "stream",
          "name": "stdout",
          "text": [
            "Requirement already satisfied: transformers in /usr/local/lib/python3.7/dist-packages (4.18.0)\n",
            "Requirement already satisfied: importlib-metadata in /usr/local/lib/python3.7/dist-packages (from transformers) (4.11.3)\n",
            "Requirement already satisfied: requests in /usr/local/lib/python3.7/dist-packages (from transformers) (2.23.0)\n",
            "Requirement already satisfied: pyyaml>=5.1 in /usr/local/lib/python3.7/dist-packages (from transformers) (6.0)\n",
            "Requirement already satisfied: tokenizers!=0.11.3,<0.13,>=0.11.1 in /usr/local/lib/python3.7/dist-packages (from transformers) (0.12.1)\n",
            "Requirement already satisfied: filelock in /usr/local/lib/python3.7/dist-packages (from transformers) (3.6.0)\n",
            "Requirement already satisfied: numpy>=1.17 in /usr/local/lib/python3.7/dist-packages (from transformers) (1.21.5)\n",
            "Requirement already satisfied: huggingface-hub<1.0,>=0.1.0 in /usr/local/lib/python3.7/dist-packages (from transformers) (0.5.1)\n",
            "Requirement already satisfied: sacremoses in /usr/local/lib/python3.7/dist-packages (from transformers) (0.0.49)\n",
            "Requirement already satisfied: packaging>=20.0 in /usr/local/lib/python3.7/dist-packages (from transformers) (21.3)\n",
            "Requirement already satisfied: regex!=2019.12.17 in /usr/local/lib/python3.7/dist-packages (from transformers) (2019.12.20)\n",
            "Requirement already satisfied: tqdm>=4.27 in /usr/local/lib/python3.7/dist-packages (from transformers) (4.64.0)\n",
            "Requirement already satisfied: typing-extensions>=3.7.4.3 in /usr/local/lib/python3.7/dist-packages (from huggingface-hub<1.0,>=0.1.0->transformers) (4.1.1)\n",
            "Requirement already satisfied: pyparsing!=3.0.5,>=2.0.2 in /usr/local/lib/python3.7/dist-packages (from packaging>=20.0->transformers) (3.0.8)\n",
            "Requirement already satisfied: zipp>=0.5 in /usr/local/lib/python3.7/dist-packages (from importlib-metadata->transformers) (3.8.0)\n",
            "Requirement already satisfied: certifi>=2017.4.17 in /usr/local/lib/python3.7/dist-packages (from requests->transformers) (2021.10.8)\n",
            "Requirement already satisfied: idna<3,>=2.5 in /usr/local/lib/python3.7/dist-packages (from requests->transformers) (2.10)\n",
            "Requirement already satisfied: urllib3!=1.25.0,!=1.25.1,<1.26,>=1.21.1 in /usr/local/lib/python3.7/dist-packages (from requests->transformers) (1.24.3)\n",
            "Requirement already satisfied: chardet<4,>=3.0.2 in /usr/local/lib/python3.7/dist-packages (from requests->transformers) (3.0.4)\n",
            "Requirement already satisfied: joblib in /usr/local/lib/python3.7/dist-packages (from sacremoses->transformers) (1.1.0)\n",
            "Requirement already satisfied: six in /usr/local/lib/python3.7/dist-packages (from sacremoses->transformers) (1.15.0)\n",
            "Requirement already satisfied: click in /usr/local/lib/python3.7/dist-packages (from sacremoses->transformers) (7.1.2)\n"
          ]
        }
      ]
    },
    {
      "cell_type": "code",
      "source": [
        "!pip install vaderSentiment"
      ],
      "metadata": {
        "id": "CR7tnX1u1Psx"
      },
      "execution_count": null,
      "outputs": []
    },
    {
      "cell_type": "code",
      "execution_count": 82,
      "metadata": {
        "id": "vw2LA8yHnBEN"
      },
      "outputs": [],
      "source": [
        "import pickle\n",
        "import numpy as np\n",
        "import pandas as pd\n",
        "import torch\n",
        "import warnings\n",
        "import re\n",
        "import operator\n",
        "\n",
        "from html import unescape\n",
        "from collections import defaultdict, Counter\n",
        "from string import punctuation\n",
        "from matplotlib import pyplot as plt\n",
        "from nltk.util import bigrams\n",
        "from tqdm import tqdm\n",
        "from scipy.spatial.distance import cosine\n",
        "\n",
        "from sklearn.feature_extraction import _stop_words\n",
        "from sklearn.manifold import TSNE\n",
        "from sklearn.model_selection import train_test_split\n",
        "from sklearn.metrics import accuracy_score, classification_report, f1_score\n",
        "\n",
        "from vaderSentiment.vaderSentiment import SentimentIntensityAnalyzer\n",
        "from textblob import TextBlob\n",
        "\n",
        "from torch import nn, optim\n",
        "from torch.nn import functional as F\n",
        "from torch.utils.data import Dataset, DataLoader\n",
        "\n",
        "from transformers import BertModel, BertTokenizer\n",
        "\n",
        "warnings.filterwarnings(\"ignore\", category=FutureWarning)"
      ]
    },
    {
      "cell_type": "code",
      "source": [
        "from google.colab import drive\n",
        "drive.mount('/content/drive')"
      ],
      "metadata": {
        "colab": {
          "base_uri": "https://localhost:8080/",
          "height": 0
        },
        "id": "ACESc7G2rtUw",
        "outputId": "505ffb77-e8fe-4725-e0a6-e5a8925b825b"
      },
      "execution_count": 3,
      "outputs": [
        {
          "output_type": "stream",
          "name": "stdout",
          "text": [
            "Drive already mounted at /content/drive; to attempt to forcibly remount, call drive.mount(\"/content/drive\", force_remount=True).\n"
          ]
        }
      ]
    },
    {
      "cell_type": "markdown",
      "source": [
        "# Load and Explore the Data"
      ],
      "metadata": {
        "id": "9ZpUf-FFySyZ"
      }
    },
    {
      "cell_type": "code",
      "source": [
        "# Define function to clean text\n",
        "def clean(text):\n",
        "    try:\n",
        "      text = unescape(text)\n",
        "      text = re.sub( '[^a-zA-Z]', ' ', text)\n",
        "      text = [w.lower().strip(punctuation) for w in text.split()]\n",
        "      return text\n",
        "    except:\n",
        "      return None"
      ],
      "metadata": {
        "id": "kF184c9Zrz12"
      },
      "execution_count": 4,
      "outputs": []
    },
    {
      "cell_type": "code",
      "source": [
        "tok = BertTokenizer.from_pretrained('bert-base-uncased')\n",
        "\n",
        "with open('bert_vocab.txt', 'w', encoding='utf-8') as f:\n",
        "    f.write('\\n'.join(list(tok.vocab)))"
      ],
      "metadata": {
        "id": "VSETIBferS9a"
      },
      "execution_count": 5,
      "outputs": []
    },
    {
      "cell_type": "code",
      "source": [
        "# Load data\n",
        "with open('drive/MyDrive/nlp_summative_data/clothing_reviews.p', 'rb') as f:\n",
        "    data = pickle.load(f)\n",
        "\n",
        "# rename columns to match naming convention\n",
        "data.rename(columns={\"verified\": \"label\"},inplace=True)"
      ],
      "metadata": {
        "id": "qQKadJf-ZR0r"
      },
      "execution_count": 6,
      "outputs": []
    },
    {
      "cell_type": "code",
      "source": [
        "# Clean text to remove special characters, numbers, and blank reviews\n",
        "data = data[~data.text.isna()]\n",
        "data['cleaned'] = data.text.apply(clean)\n",
        "data = data[data.cleaned.apply(lambda x: len(x) > 0)]\n",
        "data.head()"
      ],
      "metadata": {
        "colab": {
          "base_uri": "https://localhost:8080/",
          "height": 206
        },
        "id": "z0bMz60sZp-o",
        "outputId": "b1a4360c-8b2d-437d-a318-24f1f91792e2"
      },
      "execution_count": 7,
      "outputs": [
        {
          "output_type": "execute_result",
          "data": {
            "text/plain": [
              "   rating                                               text  label  \\\n",
              "0     5.0  This book has beautiful photos, good and under...   True   \n",
              "1     5.0  Loved their approach in this book and that it ...   True   \n",
              "2     5.0                                              great   True   \n",
              "3     5.0  Always love the way Eva thinks, and there are ...   True   \n",
              "4     5.0                                      Nice patterns   True   \n",
              "\n",
              "                                             cleaned  \n",
              "0  [this, book, has, beautiful, photos, good, and...  \n",
              "1  [loved, their, approach, in, this, book, and, ...  \n",
              "2                                            [great]  \n",
              "3  [always, love, the, way, eva, thinks, and, the...  \n",
              "4                                   [nice, patterns]  "
            ],
            "text/html": [
              "\n",
              "  <div id=\"df-1d869b46-ed37-4ba8-a078-2b2f5e2f2044\">\n",
              "    <div class=\"colab-df-container\">\n",
              "      <div>\n",
              "<style scoped>\n",
              "    .dataframe tbody tr th:only-of-type {\n",
              "        vertical-align: middle;\n",
              "    }\n",
              "\n",
              "    .dataframe tbody tr th {\n",
              "        vertical-align: top;\n",
              "    }\n",
              "\n",
              "    .dataframe thead th {\n",
              "        text-align: right;\n",
              "    }\n",
              "</style>\n",
              "<table border=\"1\" class=\"dataframe\">\n",
              "  <thead>\n",
              "    <tr style=\"text-align: right;\">\n",
              "      <th></th>\n",
              "      <th>rating</th>\n",
              "      <th>text</th>\n",
              "      <th>label</th>\n",
              "      <th>cleaned</th>\n",
              "    </tr>\n",
              "  </thead>\n",
              "  <tbody>\n",
              "    <tr>\n",
              "      <th>0</th>\n",
              "      <td>5.0</td>\n",
              "      <td>This book has beautiful photos, good and under...</td>\n",
              "      <td>True</td>\n",
              "      <td>[this, book, has, beautiful, photos, good, and...</td>\n",
              "    </tr>\n",
              "    <tr>\n",
              "      <th>1</th>\n",
              "      <td>5.0</td>\n",
              "      <td>Loved their approach in this book and that it ...</td>\n",
              "      <td>True</td>\n",
              "      <td>[loved, their, approach, in, this, book, and, ...</td>\n",
              "    </tr>\n",
              "    <tr>\n",
              "      <th>2</th>\n",
              "      <td>5.0</td>\n",
              "      <td>great</td>\n",
              "      <td>True</td>\n",
              "      <td>[great]</td>\n",
              "    </tr>\n",
              "    <tr>\n",
              "      <th>3</th>\n",
              "      <td>5.0</td>\n",
              "      <td>Always love the way Eva thinks, and there are ...</td>\n",
              "      <td>True</td>\n",
              "      <td>[always, love, the, way, eva, thinks, and, the...</td>\n",
              "    </tr>\n",
              "    <tr>\n",
              "      <th>4</th>\n",
              "      <td>5.0</td>\n",
              "      <td>Nice patterns</td>\n",
              "      <td>True</td>\n",
              "      <td>[nice, patterns]</td>\n",
              "    </tr>\n",
              "  </tbody>\n",
              "</table>\n",
              "</div>\n",
              "      <button class=\"colab-df-convert\" onclick=\"convertToInteractive('df-1d869b46-ed37-4ba8-a078-2b2f5e2f2044')\"\n",
              "              title=\"Convert this dataframe to an interactive table.\"\n",
              "              style=\"display:none;\">\n",
              "        \n",
              "  <svg xmlns=\"http://www.w3.org/2000/svg\" height=\"24px\"viewBox=\"0 0 24 24\"\n",
              "       width=\"24px\">\n",
              "    <path d=\"M0 0h24v24H0V0z\" fill=\"none\"/>\n",
              "    <path d=\"M18.56 5.44l.94 2.06.94-2.06 2.06-.94-2.06-.94-.94-2.06-.94 2.06-2.06.94zm-11 1L8.5 8.5l.94-2.06 2.06-.94-2.06-.94L8.5 2.5l-.94 2.06-2.06.94zm10 10l.94 2.06.94-2.06 2.06-.94-2.06-.94-.94-2.06-.94 2.06-2.06.94z\"/><path d=\"M17.41 7.96l-1.37-1.37c-.4-.4-.92-.59-1.43-.59-.52 0-1.04.2-1.43.59L10.3 9.45l-7.72 7.72c-.78.78-.78 2.05 0 2.83L4 21.41c.39.39.9.59 1.41.59.51 0 1.02-.2 1.41-.59l7.78-7.78 2.81-2.81c.8-.78.8-2.07 0-2.86zM5.41 20L4 18.59l7.72-7.72 1.47 1.35L5.41 20z\"/>\n",
              "  </svg>\n",
              "      </button>\n",
              "      \n",
              "  <style>\n",
              "    .colab-df-container {\n",
              "      display:flex;\n",
              "      flex-wrap:wrap;\n",
              "      gap: 12px;\n",
              "    }\n",
              "\n",
              "    .colab-df-convert {\n",
              "      background-color: #E8F0FE;\n",
              "      border: none;\n",
              "      border-radius: 50%;\n",
              "      cursor: pointer;\n",
              "      display: none;\n",
              "      fill: #1967D2;\n",
              "      height: 32px;\n",
              "      padding: 0 0 0 0;\n",
              "      width: 32px;\n",
              "    }\n",
              "\n",
              "    .colab-df-convert:hover {\n",
              "      background-color: #E2EBFA;\n",
              "      box-shadow: 0px 1px 2px rgba(60, 64, 67, 0.3), 0px 1px 3px 1px rgba(60, 64, 67, 0.15);\n",
              "      fill: #174EA6;\n",
              "    }\n",
              "\n",
              "    [theme=dark] .colab-df-convert {\n",
              "      background-color: #3B4455;\n",
              "      fill: #D2E3FC;\n",
              "    }\n",
              "\n",
              "    [theme=dark] .colab-df-convert:hover {\n",
              "      background-color: #434B5C;\n",
              "      box-shadow: 0px 1px 3px 1px rgba(0, 0, 0, 0.15);\n",
              "      filter: drop-shadow(0px 1px 2px rgba(0, 0, 0, 0.3));\n",
              "      fill: #FFFFFF;\n",
              "    }\n",
              "  </style>\n",
              "\n",
              "      <script>\n",
              "        const buttonEl =\n",
              "          document.querySelector('#df-1d869b46-ed37-4ba8-a078-2b2f5e2f2044 button.colab-df-convert');\n",
              "        buttonEl.style.display =\n",
              "          google.colab.kernel.accessAllowed ? 'block' : 'none';\n",
              "\n",
              "        async function convertToInteractive(key) {\n",
              "          const element = document.querySelector('#df-1d869b46-ed37-4ba8-a078-2b2f5e2f2044');\n",
              "          const dataTable =\n",
              "            await google.colab.kernel.invokeFunction('convertToInteractive',\n",
              "                                                     [key], {});\n",
              "          if (!dataTable) return;\n",
              "\n",
              "          const docLinkHtml = 'Like what you see? Visit the ' +\n",
              "            '<a target=\"_blank\" href=https://colab.research.google.com/notebooks/data_table.ipynb>data table notebook</a>'\n",
              "            + ' to learn more about interactive tables.';\n",
              "          element.innerHTML = '';\n",
              "          dataTable['output_type'] = 'display_data';\n",
              "          await google.colab.output.renderOutput(dataTable, element);\n",
              "          const docLink = document.createElement('div');\n",
              "          docLink.innerHTML = docLinkHtml;\n",
              "          element.appendChild(docLink);\n",
              "        }\n",
              "      </script>\n",
              "    </div>\n",
              "  </div>\n",
              "  "
            ]
          },
          "metadata": {},
          "execution_count": 7
        }
      ]
    },
    {
      "cell_type": "code",
      "source": [
        "# Load fastText embeddings\n",
        "with open('drive/MyDrive/formative4_data_2022/fasttext_vectors.p', 'rb') as f:\n",
        "    fasttext_vecs = pickle.load(f)"
      ],
      "metadata": {
        "id": "fru62ajssU-R"
      },
      "execution_count": 8,
      "outputs": []
    },
    {
      "cell_type": "code",
      "source": [
        "# Define list of labels\n",
        "labels = ['unverified','verified']\n",
        "\n",
        "# Define dictionary for label look-up\n",
        "label2id = {'unverified': 0, 'verified': 1}\n",
        "\n",
        "# Define dictionary for reverse label look-up\n",
        "id2label = {v: k for k, v in label2id.items()}\n",
        "\n",
        "# Convert labels\n",
        "data['label'] = data.label.apply(lambda x: int(x))\n",
        "\n",
        "# FOR DEBUGGING: Reduce dataset size to make the task more computationally tractable\n",
        "data, _ = train_test_split(data, train_size=400, stratify=data['label'], random_state=0)\n",
        "\n",
        "# Inspect dataframe\n",
        "data"
      ],
      "metadata": {
        "colab": {
          "base_uri": "https://localhost:8080/",
          "height": 423
        },
        "id": "bXu9oo8Zt9Vh",
        "outputId": "3e1bc414-8aeb-4438-ffff-1ba735826e55"
      },
      "execution_count": 9,
      "outputs": [
        {
          "output_type": "execute_result",
          "data": {
            "text/plain": [
              "         rating                                               text  label  \\\n",
              "10479       5.0  My kids even told me that this is a nice walle...      1   \n",
              "265609      5.0  These shoes are very comfortable and durable. ...      1   \n",
              "448110      4.0                                      good material      1   \n",
              "1106270     4.0  I like the style. It will fit just about anybody.      0   \n",
              "908481      5.0   I love this! My son looks so cute in his onesie.      0   \n",
              "...         ...                                                ...    ...   \n",
              "63745       2.0  This chain had a bend in it that I could not g...      1   \n",
              "1313355     5.0  The back pack is perfect to look at but is ver...      0   \n",
              "931724      3.0  The ring got opened the first day of use, so I...      0   \n",
              "745623      5.0  Love these! Love that I can throw them in the ...      0   \n",
              "589813      5.0                      Fit wonderfully! Order these!      1   \n",
              "\n",
              "                                                   cleaned  \n",
              "10479    [my, kids, even, told, me, that, this, is, a, ...  \n",
              "265609   [these, shoes, are, very, comfortable, and, du...  \n",
              "448110                                    [good, material]  \n",
              "1106270  [i, like, the, style, it, will, fit, just, abo...  \n",
              "908481   [i, love, this, my, son, looks, so, cute, in, ...  \n",
              "...                                                    ...  \n",
              "63745    [this, chain, had, a, bend, in, it, that, i, c...  \n",
              "1313355  [the, back, pack, is, perfect, to, look, at, b...  \n",
              "931724   [the, ring, got, opened, the, first, day, of, ...  \n",
              "745623   [love, these, love, that, i, can, throw, them,...  \n",
              "589813                    [fit, wonderfully, order, these]  \n",
              "\n",
              "[400 rows x 4 columns]"
            ],
            "text/html": [
              "\n",
              "  <div id=\"df-d90523d5-c9e4-497f-be97-ab1ecea0055a\">\n",
              "    <div class=\"colab-df-container\">\n",
              "      <div>\n",
              "<style scoped>\n",
              "    .dataframe tbody tr th:only-of-type {\n",
              "        vertical-align: middle;\n",
              "    }\n",
              "\n",
              "    .dataframe tbody tr th {\n",
              "        vertical-align: top;\n",
              "    }\n",
              "\n",
              "    .dataframe thead th {\n",
              "        text-align: right;\n",
              "    }\n",
              "</style>\n",
              "<table border=\"1\" class=\"dataframe\">\n",
              "  <thead>\n",
              "    <tr style=\"text-align: right;\">\n",
              "      <th></th>\n",
              "      <th>rating</th>\n",
              "      <th>text</th>\n",
              "      <th>label</th>\n",
              "      <th>cleaned</th>\n",
              "    </tr>\n",
              "  </thead>\n",
              "  <tbody>\n",
              "    <tr>\n",
              "      <th>10479</th>\n",
              "      <td>5.0</td>\n",
              "      <td>My kids even told me that this is a nice walle...</td>\n",
              "      <td>1</td>\n",
              "      <td>[my, kids, even, told, me, that, this, is, a, ...</td>\n",
              "    </tr>\n",
              "    <tr>\n",
              "      <th>265609</th>\n",
              "      <td>5.0</td>\n",
              "      <td>These shoes are very comfortable and durable. ...</td>\n",
              "      <td>1</td>\n",
              "      <td>[these, shoes, are, very, comfortable, and, du...</td>\n",
              "    </tr>\n",
              "    <tr>\n",
              "      <th>448110</th>\n",
              "      <td>4.0</td>\n",
              "      <td>good material</td>\n",
              "      <td>1</td>\n",
              "      <td>[good, material]</td>\n",
              "    </tr>\n",
              "    <tr>\n",
              "      <th>1106270</th>\n",
              "      <td>4.0</td>\n",
              "      <td>I like the style. It will fit just about anybody.</td>\n",
              "      <td>0</td>\n",
              "      <td>[i, like, the, style, it, will, fit, just, abo...</td>\n",
              "    </tr>\n",
              "    <tr>\n",
              "      <th>908481</th>\n",
              "      <td>5.0</td>\n",
              "      <td>I love this! My son looks so cute in his onesie.</td>\n",
              "      <td>0</td>\n",
              "      <td>[i, love, this, my, son, looks, so, cute, in, ...</td>\n",
              "    </tr>\n",
              "    <tr>\n",
              "      <th>...</th>\n",
              "      <td>...</td>\n",
              "      <td>...</td>\n",
              "      <td>...</td>\n",
              "      <td>...</td>\n",
              "    </tr>\n",
              "    <tr>\n",
              "      <th>63745</th>\n",
              "      <td>2.0</td>\n",
              "      <td>This chain had a bend in it that I could not g...</td>\n",
              "      <td>1</td>\n",
              "      <td>[this, chain, had, a, bend, in, it, that, i, c...</td>\n",
              "    </tr>\n",
              "    <tr>\n",
              "      <th>1313355</th>\n",
              "      <td>5.0</td>\n",
              "      <td>The back pack is perfect to look at but is ver...</td>\n",
              "      <td>0</td>\n",
              "      <td>[the, back, pack, is, perfect, to, look, at, b...</td>\n",
              "    </tr>\n",
              "    <tr>\n",
              "      <th>931724</th>\n",
              "      <td>3.0</td>\n",
              "      <td>The ring got opened the first day of use, so I...</td>\n",
              "      <td>0</td>\n",
              "      <td>[the, ring, got, opened, the, first, day, of, ...</td>\n",
              "    </tr>\n",
              "    <tr>\n",
              "      <th>745623</th>\n",
              "      <td>5.0</td>\n",
              "      <td>Love these! Love that I can throw them in the ...</td>\n",
              "      <td>0</td>\n",
              "      <td>[love, these, love, that, i, can, throw, them,...</td>\n",
              "    </tr>\n",
              "    <tr>\n",
              "      <th>589813</th>\n",
              "      <td>5.0</td>\n",
              "      <td>Fit wonderfully! Order these!</td>\n",
              "      <td>1</td>\n",
              "      <td>[fit, wonderfully, order, these]</td>\n",
              "    </tr>\n",
              "  </tbody>\n",
              "</table>\n",
              "<p>400 rows × 4 columns</p>\n",
              "</div>\n",
              "      <button class=\"colab-df-convert\" onclick=\"convertToInteractive('df-d90523d5-c9e4-497f-be97-ab1ecea0055a')\"\n",
              "              title=\"Convert this dataframe to an interactive table.\"\n",
              "              style=\"display:none;\">\n",
              "        \n",
              "  <svg xmlns=\"http://www.w3.org/2000/svg\" height=\"24px\"viewBox=\"0 0 24 24\"\n",
              "       width=\"24px\">\n",
              "    <path d=\"M0 0h24v24H0V0z\" fill=\"none\"/>\n",
              "    <path d=\"M18.56 5.44l.94 2.06.94-2.06 2.06-.94-2.06-.94-.94-2.06-.94 2.06-2.06.94zm-11 1L8.5 8.5l.94-2.06 2.06-.94-2.06-.94L8.5 2.5l-.94 2.06-2.06.94zm10 10l.94 2.06.94-2.06 2.06-.94-2.06-.94-.94-2.06-.94 2.06-2.06.94z\"/><path d=\"M17.41 7.96l-1.37-1.37c-.4-.4-.92-.59-1.43-.59-.52 0-1.04.2-1.43.59L10.3 9.45l-7.72 7.72c-.78.78-.78 2.05 0 2.83L4 21.41c.39.39.9.59 1.41.59.51 0 1.02-.2 1.41-.59l7.78-7.78 2.81-2.81c.8-.78.8-2.07 0-2.86zM5.41 20L4 18.59l7.72-7.72 1.47 1.35L5.41 20z\"/>\n",
              "  </svg>\n",
              "      </button>\n",
              "      \n",
              "  <style>\n",
              "    .colab-df-container {\n",
              "      display:flex;\n",
              "      flex-wrap:wrap;\n",
              "      gap: 12px;\n",
              "    }\n",
              "\n",
              "    .colab-df-convert {\n",
              "      background-color: #E8F0FE;\n",
              "      border: none;\n",
              "      border-radius: 50%;\n",
              "      cursor: pointer;\n",
              "      display: none;\n",
              "      fill: #1967D2;\n",
              "      height: 32px;\n",
              "      padding: 0 0 0 0;\n",
              "      width: 32px;\n",
              "    }\n",
              "\n",
              "    .colab-df-convert:hover {\n",
              "      background-color: #E2EBFA;\n",
              "      box-shadow: 0px 1px 2px rgba(60, 64, 67, 0.3), 0px 1px 3px 1px rgba(60, 64, 67, 0.15);\n",
              "      fill: #174EA6;\n",
              "    }\n",
              "\n",
              "    [theme=dark] .colab-df-convert {\n",
              "      background-color: #3B4455;\n",
              "      fill: #D2E3FC;\n",
              "    }\n",
              "\n",
              "    [theme=dark] .colab-df-convert:hover {\n",
              "      background-color: #434B5C;\n",
              "      box-shadow: 0px 1px 3px 1px rgba(0, 0, 0, 0.15);\n",
              "      filter: drop-shadow(0px 1px 2px rgba(0, 0, 0, 0.3));\n",
              "      fill: #FFFFFF;\n",
              "    }\n",
              "  </style>\n",
              "\n",
              "      <script>\n",
              "        const buttonEl =\n",
              "          document.querySelector('#df-d90523d5-c9e4-497f-be97-ab1ecea0055a button.colab-df-convert');\n",
              "        buttonEl.style.display =\n",
              "          google.colab.kernel.accessAllowed ? 'block' : 'none';\n",
              "\n",
              "        async function convertToInteractive(key) {\n",
              "          const element = document.querySelector('#df-d90523d5-c9e4-497f-be97-ab1ecea0055a');\n",
              "          const dataTable =\n",
              "            await google.colab.kernel.invokeFunction('convertToInteractive',\n",
              "                                                     [key], {});\n",
              "          if (!dataTable) return;\n",
              "\n",
              "          const docLinkHtml = 'Like what you see? Visit the ' +\n",
              "            '<a target=\"_blank\" href=https://colab.research.google.com/notebooks/data_table.ipynb>data table notebook</a>'\n",
              "            + ' to learn more about interactive tables.';\n",
              "          element.innerHTML = '';\n",
              "          dataTable['output_type'] = 'display_data';\n",
              "          await google.colab.output.renderOutput(dataTable, element);\n",
              "          const docLink = document.createElement('div');\n",
              "          docLink.innerHTML = docLinkHtml;\n",
              "          element.appendChild(docLink);\n",
              "        }\n",
              "      </script>\n",
              "    </div>\n",
              "  </div>\n",
              "  "
            ]
          },
          "metadata": {},
          "execution_count": 9
        }
      ]
    },
    {
      "cell_type": "code",
      "source": [
        "# Split data into training, development, and test sets\n",
        "train, dev_test = train_test_split(data, test_size=0.2, stratify=data['label'], random_state=0)\n",
        "dev, test = train_test_split(dev_test, test_size=0.5, stratify=dev_test['label'], random_state=0)"
      ],
      "metadata": {
        "id": "nkoRrOomuIm0"
      },
      "execution_count": 10,
      "outputs": []
    },
    {
      "cell_type": "markdown",
      "source": [
        "## Compare/Contrast Descriptive Features"
      ],
      "metadata": {
        "id": "EiS-X3FByWPw"
      }
    },
    {
      "cell_type": "markdown",
      "source": [
        "### Average Length"
      ],
      "metadata": {
        "id": "seFn0A89e2l0"
      }
    },
    {
      "cell_type": "code",
      "source": [
        "print(\"Average number of words per review:\")\n",
        "for l in labels:\n",
        "  print(\"\\t{}: {} words\".format(l.upper(), np.array([len(r) for r in train[train['label']==label2id[l]].cleaned]).mean()))"
      ],
      "metadata": {
        "colab": {
          "base_uri": "https://localhost:8080/",
          "height": 0
        },
        "id": "2bNad9ZifP5G",
        "outputId": "9d723ad0-c98c-4793-9b20-97b538908edc"
      },
      "execution_count": 13,
      "outputs": [
        {
          "output_type": "stream",
          "name": "stdout",
          "text": [
            "Average number of words per review:\n",
            "\tUNVERIFIED: 53.325 words\n",
            "\tVERIFIED: 33.1125 words\n"
          ]
        }
      ]
    },
    {
      "cell_type": "code",
      "source": [
        "print(\"Average number of characters per (uncleaned) review:\")\n",
        "for l in labels:\n",
        "  print(\"\\t{}: {} chars\".format(l.upper(), np.array([len(r) for r in train[train['label']==label2id[l]].text]).mean()))"
      ],
      "metadata": {
        "colab": {
          "base_uri": "https://localhost:8080/",
          "height": 0
        },
        "id": "HEMzP7kz2QA9",
        "outputId": "254825cf-79a8-4844-c56b-5e29adcb2c72"
      },
      "execution_count": 29,
      "outputs": [
        {
          "output_type": "stream",
          "name": "stdout",
          "text": [
            "Average number of characters per (uncleaned) review:\n",
            "\tUNVERIFIED: 275.9875 chars\n",
            "\tVERIFIED: 170.60625 chars\n"
          ]
        }
      ]
    },
    {
      "cell_type": "markdown",
      "source": [
        "### Average Rating"
      ],
      "metadata": {
        "id": "pVuhAYqiguPo"
      }
    },
    {
      "cell_type": "code",
      "source": [
        "print(\"Average rating per review:\")\n",
        "for l in labels:\n",
        "  print(\"\\t{}: {} stars\".format(l.upper(), train[train['label']==label2id[l]].rating.mean()))"
      ],
      "metadata": {
        "colab": {
          "base_uri": "https://localhost:8080/",
          "height": 0
        },
        "id": "lqFju0kBgtbj",
        "outputId": "7851c340-7220-42bd-f8b6-0bbff4ae6bd4"
      },
      "execution_count": 14,
      "outputs": [
        {
          "output_type": "stream",
          "name": "stdout",
          "text": [
            "Average rating per review:\n",
            "\tUNVERIFIED: 4.25 stars\n",
            "\tVERIFIED: 4.45625 stars\n"
          ]
        }
      ]
    },
    {
      "cell_type": "markdown",
      "source": [
        "### Create Unigram Vocabularies for Each Category "
      ],
      "metadata": {
        "id": "3R5T4YbF2C_s"
      }
    },
    {
      "cell_type": "code",
      "source": [
        "# stopwords + common particles remaining after removing apostrophes\n",
        "stops = list(_stop_words.ENGLISH_STOP_WORDS) + ['t', 's','m','ve']"
      ],
      "metadata": {
        "id": "QmAy9_ncxsxq"
      },
      "execution_count": 26,
      "outputs": []
    },
    {
      "cell_type": "code",
      "source": [
        "# Define function to create dictionary\n",
        "def create_dict(review_list):\n",
        "    # Create a list of all words in the reviews\n",
        "    word_list = [w for r in review_list for w in r]\n",
        "    # Create a dictionary of words and corresponding frequency counts \n",
        "    vocab_dict = Counter(word_list)\n",
        "    # Return filtered dictionary, removing all stopwords\n",
        "    return Counter({w: c for w, c in vocab_dict.items() if not w in stops})"
      ],
      "metadata": {
        "id": "a5em3eI4yo0k"
      },
      "execution_count": 27,
      "outputs": []
    },
    {
      "cell_type": "markdown",
      "source": [
        "#### View Most Frequent Unigrams"
      ],
      "metadata": {
        "id": "z9f1cs0M2PSI"
      }
    },
    {
      "cell_type": "code",
      "source": [
        "# Initialize data structures\n",
        "vocab_dicts = defaultdict(Counter)\n",
        "\n",
        "top30_df = pd.DataFrame(columns=labels)\n",
        "\n",
        "for label in labels:\n",
        "    vocab_dicts[label] = create_dict(train[train['label']==label2id[label]].cleaned)\n",
        "    top30_df[label] = np.array(vocab_dicts[label].most_common()[:30])[:,0]\n",
        "\n",
        "top30_df"
      ],
      "metadata": {
        "colab": {
          "base_uri": "https://localhost:8080/",
          "height": 990
        },
        "id": "MYVYkKxdyu5v",
        "outputId": "36e9bc00-4daa-4724-d5a6-793cafa760f5"
      },
      "execution_count": 28,
      "outputs": [
        {
          "output_type": "execute_result",
          "data": {
            "text/plain": [
              "     unverified     verified\n",
              "0          size         size\n",
              "1           fit         like\n",
              "2          love          fit\n",
              "3         great        great\n",
              "4          like         wear\n",
              "5          wear  comfortable\n",
              "6         shirt         just\n",
              "7   comfortable         good\n",
              "8          good         pair\n",
              "9          just       bought\n",
              "10       really      quality\n",
              "11         nice        shoes\n",
              "12       review         love\n",
              "13      product        color\n",
              "14      quality      perfect\n",
              "15        price         shoe\n",
              "16          bra          buy\n",
              "17          got       little\n",
              "18        looks          big\n",
              "19        color        price\n",
              "20        shoes        watch\n",
              "21       honest         time\n",
              "22        large         fits\n",
              "23      ordered         nice\n",
              "24      looking        pants\n",
              "25       bought        boots\n",
              "26         pair        small\n",
              "27         look       really\n",
              "28         fits      ordered\n",
              "29      perfect          got"
            ],
            "text/html": [
              "\n",
              "  <div id=\"df-b8899059-9864-47d8-ac6f-913241a64e90\">\n",
              "    <div class=\"colab-df-container\">\n",
              "      <div>\n",
              "<style scoped>\n",
              "    .dataframe tbody tr th:only-of-type {\n",
              "        vertical-align: middle;\n",
              "    }\n",
              "\n",
              "    .dataframe tbody tr th {\n",
              "        vertical-align: top;\n",
              "    }\n",
              "\n",
              "    .dataframe thead th {\n",
              "        text-align: right;\n",
              "    }\n",
              "</style>\n",
              "<table border=\"1\" class=\"dataframe\">\n",
              "  <thead>\n",
              "    <tr style=\"text-align: right;\">\n",
              "      <th></th>\n",
              "      <th>unverified</th>\n",
              "      <th>verified</th>\n",
              "    </tr>\n",
              "  </thead>\n",
              "  <tbody>\n",
              "    <tr>\n",
              "      <th>0</th>\n",
              "      <td>size</td>\n",
              "      <td>size</td>\n",
              "    </tr>\n",
              "    <tr>\n",
              "      <th>1</th>\n",
              "      <td>fit</td>\n",
              "      <td>like</td>\n",
              "    </tr>\n",
              "    <tr>\n",
              "      <th>2</th>\n",
              "      <td>love</td>\n",
              "      <td>fit</td>\n",
              "    </tr>\n",
              "    <tr>\n",
              "      <th>3</th>\n",
              "      <td>great</td>\n",
              "      <td>great</td>\n",
              "    </tr>\n",
              "    <tr>\n",
              "      <th>4</th>\n",
              "      <td>like</td>\n",
              "      <td>wear</td>\n",
              "    </tr>\n",
              "    <tr>\n",
              "      <th>5</th>\n",
              "      <td>wear</td>\n",
              "      <td>comfortable</td>\n",
              "    </tr>\n",
              "    <tr>\n",
              "      <th>6</th>\n",
              "      <td>shirt</td>\n",
              "      <td>just</td>\n",
              "    </tr>\n",
              "    <tr>\n",
              "      <th>7</th>\n",
              "      <td>comfortable</td>\n",
              "      <td>good</td>\n",
              "    </tr>\n",
              "    <tr>\n",
              "      <th>8</th>\n",
              "      <td>good</td>\n",
              "      <td>pair</td>\n",
              "    </tr>\n",
              "    <tr>\n",
              "      <th>9</th>\n",
              "      <td>just</td>\n",
              "      <td>bought</td>\n",
              "    </tr>\n",
              "    <tr>\n",
              "      <th>10</th>\n",
              "      <td>really</td>\n",
              "      <td>quality</td>\n",
              "    </tr>\n",
              "    <tr>\n",
              "      <th>11</th>\n",
              "      <td>nice</td>\n",
              "      <td>shoes</td>\n",
              "    </tr>\n",
              "    <tr>\n",
              "      <th>12</th>\n",
              "      <td>review</td>\n",
              "      <td>love</td>\n",
              "    </tr>\n",
              "    <tr>\n",
              "      <th>13</th>\n",
              "      <td>product</td>\n",
              "      <td>color</td>\n",
              "    </tr>\n",
              "    <tr>\n",
              "      <th>14</th>\n",
              "      <td>quality</td>\n",
              "      <td>perfect</td>\n",
              "    </tr>\n",
              "    <tr>\n",
              "      <th>15</th>\n",
              "      <td>price</td>\n",
              "      <td>shoe</td>\n",
              "    </tr>\n",
              "    <tr>\n",
              "      <th>16</th>\n",
              "      <td>bra</td>\n",
              "      <td>buy</td>\n",
              "    </tr>\n",
              "    <tr>\n",
              "      <th>17</th>\n",
              "      <td>got</td>\n",
              "      <td>little</td>\n",
              "    </tr>\n",
              "    <tr>\n",
              "      <th>18</th>\n",
              "      <td>looks</td>\n",
              "      <td>big</td>\n",
              "    </tr>\n",
              "    <tr>\n",
              "      <th>19</th>\n",
              "      <td>color</td>\n",
              "      <td>price</td>\n",
              "    </tr>\n",
              "    <tr>\n",
              "      <th>20</th>\n",
              "      <td>shoes</td>\n",
              "      <td>watch</td>\n",
              "    </tr>\n",
              "    <tr>\n",
              "      <th>21</th>\n",
              "      <td>honest</td>\n",
              "      <td>time</td>\n",
              "    </tr>\n",
              "    <tr>\n",
              "      <th>22</th>\n",
              "      <td>large</td>\n",
              "      <td>fits</td>\n",
              "    </tr>\n",
              "    <tr>\n",
              "      <th>23</th>\n",
              "      <td>ordered</td>\n",
              "      <td>nice</td>\n",
              "    </tr>\n",
              "    <tr>\n",
              "      <th>24</th>\n",
              "      <td>looking</td>\n",
              "      <td>pants</td>\n",
              "    </tr>\n",
              "    <tr>\n",
              "      <th>25</th>\n",
              "      <td>bought</td>\n",
              "      <td>boots</td>\n",
              "    </tr>\n",
              "    <tr>\n",
              "      <th>26</th>\n",
              "      <td>pair</td>\n",
              "      <td>small</td>\n",
              "    </tr>\n",
              "    <tr>\n",
              "      <th>27</th>\n",
              "      <td>look</td>\n",
              "      <td>really</td>\n",
              "    </tr>\n",
              "    <tr>\n",
              "      <th>28</th>\n",
              "      <td>fits</td>\n",
              "      <td>ordered</td>\n",
              "    </tr>\n",
              "    <tr>\n",
              "      <th>29</th>\n",
              "      <td>perfect</td>\n",
              "      <td>got</td>\n",
              "    </tr>\n",
              "  </tbody>\n",
              "</table>\n",
              "</div>\n",
              "      <button class=\"colab-df-convert\" onclick=\"convertToInteractive('df-b8899059-9864-47d8-ac6f-913241a64e90')\"\n",
              "              title=\"Convert this dataframe to an interactive table.\"\n",
              "              style=\"display:none;\">\n",
              "        \n",
              "  <svg xmlns=\"http://www.w3.org/2000/svg\" height=\"24px\"viewBox=\"0 0 24 24\"\n",
              "       width=\"24px\">\n",
              "    <path d=\"M0 0h24v24H0V0z\" fill=\"none\"/>\n",
              "    <path d=\"M18.56 5.44l.94 2.06.94-2.06 2.06-.94-2.06-.94-.94-2.06-.94 2.06-2.06.94zm-11 1L8.5 8.5l.94-2.06 2.06-.94-2.06-.94L8.5 2.5l-.94 2.06-2.06.94zm10 10l.94 2.06.94-2.06 2.06-.94-2.06-.94-.94-2.06-.94 2.06-2.06.94z\"/><path d=\"M17.41 7.96l-1.37-1.37c-.4-.4-.92-.59-1.43-.59-.52 0-1.04.2-1.43.59L10.3 9.45l-7.72 7.72c-.78.78-.78 2.05 0 2.83L4 21.41c.39.39.9.59 1.41.59.51 0 1.02-.2 1.41-.59l7.78-7.78 2.81-2.81c.8-.78.8-2.07 0-2.86zM5.41 20L4 18.59l7.72-7.72 1.47 1.35L5.41 20z\"/>\n",
              "  </svg>\n",
              "      </button>\n",
              "      \n",
              "  <style>\n",
              "    .colab-df-container {\n",
              "      display:flex;\n",
              "      flex-wrap:wrap;\n",
              "      gap: 12px;\n",
              "    }\n",
              "\n",
              "    .colab-df-convert {\n",
              "      background-color: #E8F0FE;\n",
              "      border: none;\n",
              "      border-radius: 50%;\n",
              "      cursor: pointer;\n",
              "      display: none;\n",
              "      fill: #1967D2;\n",
              "      height: 32px;\n",
              "      padding: 0 0 0 0;\n",
              "      width: 32px;\n",
              "    }\n",
              "\n",
              "    .colab-df-convert:hover {\n",
              "      background-color: #E2EBFA;\n",
              "      box-shadow: 0px 1px 2px rgba(60, 64, 67, 0.3), 0px 1px 3px 1px rgba(60, 64, 67, 0.15);\n",
              "      fill: #174EA6;\n",
              "    }\n",
              "\n",
              "    [theme=dark] .colab-df-convert {\n",
              "      background-color: #3B4455;\n",
              "      fill: #D2E3FC;\n",
              "    }\n",
              "\n",
              "    [theme=dark] .colab-df-convert:hover {\n",
              "      background-color: #434B5C;\n",
              "      box-shadow: 0px 1px 3px 1px rgba(0, 0, 0, 0.15);\n",
              "      filter: drop-shadow(0px 1px 2px rgba(0, 0, 0, 0.3));\n",
              "      fill: #FFFFFF;\n",
              "    }\n",
              "  </style>\n",
              "\n",
              "      <script>\n",
              "        const buttonEl =\n",
              "          document.querySelector('#df-b8899059-9864-47d8-ac6f-913241a64e90 button.colab-df-convert');\n",
              "        buttonEl.style.display =\n",
              "          google.colab.kernel.accessAllowed ? 'block' : 'none';\n",
              "\n",
              "        async function convertToInteractive(key) {\n",
              "          const element = document.querySelector('#df-b8899059-9864-47d8-ac6f-913241a64e90');\n",
              "          const dataTable =\n",
              "            await google.colab.kernel.invokeFunction('convertToInteractive',\n",
              "                                                     [key], {});\n",
              "          if (!dataTable) return;\n",
              "\n",
              "          const docLinkHtml = 'Like what you see? Visit the ' +\n",
              "            '<a target=\"_blank\" href=https://colab.research.google.com/notebooks/data_table.ipynb>data table notebook</a>'\n",
              "            + ' to learn more about interactive tables.';\n",
              "          element.innerHTML = '';\n",
              "          dataTable['output_type'] = 'display_data';\n",
              "          await google.colab.output.renderOutput(dataTable, element);\n",
              "          const docLink = document.createElement('div');\n",
              "          docLink.innerHTML = docLinkHtml;\n",
              "          element.appendChild(docLink);\n",
              "        }\n",
              "      </script>\n",
              "    </div>\n",
              "  </div>\n",
              "  "
            ]
          },
          "metadata": {},
          "execution_count": 28
        }
      ]
    },
    {
      "cell_type": "markdown",
      "source": [
        "#### Calculate Unigram Jaccard Similarity"
      ],
      "metadata": {
        "id": "YNe04k-x02GR"
      }
    },
    {
      "cell_type": "code",
      "source": [
        "# Function for calculating jacccard Similarity\n",
        "def jaccard_sim(vocab_1, vocab_2):\n",
        "    intersection = len(set(vocab_1).intersection(set(vocab_2)))\n",
        "    union = len(set(vocab_1).union(set(vocab_2)))\n",
        "    return intersection / union"
      ],
      "metadata": {
        "id": "uXM9_Yj3yyr8"
      },
      "execution_count": 29,
      "outputs": []
    },
    {
      "cell_type": "code",
      "source": [
        "# Initialize similarity table as dictionary\n",
        "table = dict()\n",
        "\n",
        "for l1 in labels:\n",
        "    \n",
        "    table[l1] = list()\n",
        "    \n",
        "    for l2 in labels:\n",
        "        \n",
        "        # Calculate Jaccard similarity \n",
        "        table[l1].append(jaccard_sim(vocab_dicts[l1], vocab_dicts[l2]))\n",
        "        \n",
        "# Display table\n",
        "pd.DataFrame.from_dict(table, orient='index', columns=labels).reindex(index=[l for l in labels])"
      ],
      "metadata": {
        "colab": {
          "base_uri": "https://localhost:8080/",
          "height": 112
        },
        "id": "DqW_cEhX07c-",
        "outputId": "70166032-dd31-429c-9254-ef8be6001ebc"
      },
      "execution_count": 30,
      "outputs": [
        {
          "output_type": "execute_result",
          "data": {
            "text/plain": [
              "            unverified  verified\n",
              "unverified    1.000000  0.259128\n",
              "verified      0.259128  1.000000"
            ],
            "text/html": [
              "\n",
              "  <div id=\"df-8c56883b-f7c0-4902-a3cd-f6a4e07cce8e\">\n",
              "    <div class=\"colab-df-container\">\n",
              "      <div>\n",
              "<style scoped>\n",
              "    .dataframe tbody tr th:only-of-type {\n",
              "        vertical-align: middle;\n",
              "    }\n",
              "\n",
              "    .dataframe tbody tr th {\n",
              "        vertical-align: top;\n",
              "    }\n",
              "\n",
              "    .dataframe thead th {\n",
              "        text-align: right;\n",
              "    }\n",
              "</style>\n",
              "<table border=\"1\" class=\"dataframe\">\n",
              "  <thead>\n",
              "    <tr style=\"text-align: right;\">\n",
              "      <th></th>\n",
              "      <th>unverified</th>\n",
              "      <th>verified</th>\n",
              "    </tr>\n",
              "  </thead>\n",
              "  <tbody>\n",
              "    <tr>\n",
              "      <th>unverified</th>\n",
              "      <td>1.000000</td>\n",
              "      <td>0.259128</td>\n",
              "    </tr>\n",
              "    <tr>\n",
              "      <th>verified</th>\n",
              "      <td>0.259128</td>\n",
              "      <td>1.000000</td>\n",
              "    </tr>\n",
              "  </tbody>\n",
              "</table>\n",
              "</div>\n",
              "      <button class=\"colab-df-convert\" onclick=\"convertToInteractive('df-8c56883b-f7c0-4902-a3cd-f6a4e07cce8e')\"\n",
              "              title=\"Convert this dataframe to an interactive table.\"\n",
              "              style=\"display:none;\">\n",
              "        \n",
              "  <svg xmlns=\"http://www.w3.org/2000/svg\" height=\"24px\"viewBox=\"0 0 24 24\"\n",
              "       width=\"24px\">\n",
              "    <path d=\"M0 0h24v24H0V0z\" fill=\"none\"/>\n",
              "    <path d=\"M18.56 5.44l.94 2.06.94-2.06 2.06-.94-2.06-.94-.94-2.06-.94 2.06-2.06.94zm-11 1L8.5 8.5l.94-2.06 2.06-.94-2.06-.94L8.5 2.5l-.94 2.06-2.06.94zm10 10l.94 2.06.94-2.06 2.06-.94-2.06-.94-.94-2.06-.94 2.06-2.06.94z\"/><path d=\"M17.41 7.96l-1.37-1.37c-.4-.4-.92-.59-1.43-.59-.52 0-1.04.2-1.43.59L10.3 9.45l-7.72 7.72c-.78.78-.78 2.05 0 2.83L4 21.41c.39.39.9.59 1.41.59.51 0 1.02-.2 1.41-.59l7.78-7.78 2.81-2.81c.8-.78.8-2.07 0-2.86zM5.41 20L4 18.59l7.72-7.72 1.47 1.35L5.41 20z\"/>\n",
              "  </svg>\n",
              "      </button>\n",
              "      \n",
              "  <style>\n",
              "    .colab-df-container {\n",
              "      display:flex;\n",
              "      flex-wrap:wrap;\n",
              "      gap: 12px;\n",
              "    }\n",
              "\n",
              "    .colab-df-convert {\n",
              "      background-color: #E8F0FE;\n",
              "      border: none;\n",
              "      border-radius: 50%;\n",
              "      cursor: pointer;\n",
              "      display: none;\n",
              "      fill: #1967D2;\n",
              "      height: 32px;\n",
              "      padding: 0 0 0 0;\n",
              "      width: 32px;\n",
              "    }\n",
              "\n",
              "    .colab-df-convert:hover {\n",
              "      background-color: #E2EBFA;\n",
              "      box-shadow: 0px 1px 2px rgba(60, 64, 67, 0.3), 0px 1px 3px 1px rgba(60, 64, 67, 0.15);\n",
              "      fill: #174EA6;\n",
              "    }\n",
              "\n",
              "    [theme=dark] .colab-df-convert {\n",
              "      background-color: #3B4455;\n",
              "      fill: #D2E3FC;\n",
              "    }\n",
              "\n",
              "    [theme=dark] .colab-df-convert:hover {\n",
              "      background-color: #434B5C;\n",
              "      box-shadow: 0px 1px 3px 1px rgba(0, 0, 0, 0.15);\n",
              "      filter: drop-shadow(0px 1px 2px rgba(0, 0, 0, 0.3));\n",
              "      fill: #FFFFFF;\n",
              "    }\n",
              "  </style>\n",
              "\n",
              "      <script>\n",
              "        const buttonEl =\n",
              "          document.querySelector('#df-8c56883b-f7c0-4902-a3cd-f6a4e07cce8e button.colab-df-convert');\n",
              "        buttonEl.style.display =\n",
              "          google.colab.kernel.accessAllowed ? 'block' : 'none';\n",
              "\n",
              "        async function convertToInteractive(key) {\n",
              "          const element = document.querySelector('#df-8c56883b-f7c0-4902-a3cd-f6a4e07cce8e');\n",
              "          const dataTable =\n",
              "            await google.colab.kernel.invokeFunction('convertToInteractive',\n",
              "                                                     [key], {});\n",
              "          if (!dataTable) return;\n",
              "\n",
              "          const docLinkHtml = 'Like what you see? Visit the ' +\n",
              "            '<a target=\"_blank\" href=https://colab.research.google.com/notebooks/data_table.ipynb>data table notebook</a>'\n",
              "            + ' to learn more about interactive tables.';\n",
              "          element.innerHTML = '';\n",
              "          dataTable['output_type'] = 'display_data';\n",
              "          await google.colab.output.renderOutput(dataTable, element);\n",
              "          const docLink = document.createElement('div');\n",
              "          docLink.innerHTML = docLinkHtml;\n",
              "          element.appendChild(docLink);\n",
              "        }\n",
              "      </script>\n",
              "    </div>\n",
              "  </div>\n",
              "  "
            ]
          },
          "metadata": {},
          "execution_count": 30
        }
      ]
    },
    {
      "cell_type": "markdown",
      "source": [
        "### Create Bigram Vocabularies for Review Categories"
      ],
      "metadata": {
        "id": "J3Sp-di81Dri"
      }
    },
    {
      "cell_type": "code",
      "source": [
        "# Define function to create dictionary\n",
        "def create_bigram_dict(review_list):\n",
        "\n",
        "    # Create a list of all bigrams in the reviews\n",
        "    bigram_list = [b for r in review_list for b in list(bigrams(r))]\n",
        "\n",
        "    # Create a dictionary of bigrams and corresponding frequencies\n",
        "    vocab_dict = Counter(bigram_list) \n",
        "\n",
        "    # Return filtered bigram dictionary (no stopwords)\n",
        "    return Counter({b: c for b, c in vocab_dict.items() if ((not (b[0] in stops)) and (not (b[1] in stops)))})"
      ],
      "metadata": {
        "id": "cOrJbQbm04JH"
      },
      "execution_count": 20,
      "outputs": []
    },
    {
      "cell_type": "markdown",
      "source": [
        "#### View Most Frequent Bigrams"
      ],
      "metadata": {
        "id": "QdmZCqmk4ADz"
      }
    },
    {
      "cell_type": "code",
      "source": [
        "# Initialize data structures\n",
        "vocab_bi = defaultdict(Counter)\n",
        "\n",
        "# Create vocabularies\n",
        "for review, label in zip(train.cleaned, train.label):\n",
        "    if review:\n",
        "       vocab_bi[id2label[label]].update(bigrams([w for w in review if w not in stops]))\n",
        "    \n",
        "top30_bigrams_df = pd.DataFrame(columns=labels)\n",
        "\n",
        "# Inspect most frequent bigrams\n",
        "for l in labels:\n",
        "    top30_bigrams_df[l] = np.array(vocab_bi[l].most_common(30), dtype=object)[:,0]\n",
        "\n",
        "display(top30_bigrams_df)"
      ],
      "metadata": {
        "colab": {
          "base_uri": "https://localhost:8080/",
          "height": 990
        },
        "id": "GUuTd3tpGtFf",
        "outputId": "08382957-e9bf-40f1-e596-06015d5a1747"
      },
      "execution_count": 21,
      "outputs": [
        {
          "output_type": "display_data",
          "data": {
            "text/plain": [
              "              unverified                verified\n",
              "0       (honest, review)        (great, quality)\n",
              "1    (received, product)            (feel, like)\n",
              "2     (exchange, honest)         (smaller, size)\n",
              "3    (product, discount)      (arrived, quickly)\n",
              "4           (wear, size)             (year, old)\n",
              "5        (quick, drying)           (love, shoes)\n",
              "6         (water, shoes)          (fit, perfect)\n",
              "7            (year, old)     (different, colors)\n",
              "8        (drying, water)         (good, quality)\n",
              "9   (discount, exchange)             (fit, good)\n",
              "10    (honest, unbiased)          (just, little)\n",
              "11    (unbiased, review)         (good, product)\n",
              "12      (great, quality)          (really, like)\n",
              "13      (fit, perfectly)         (rigid, dragon)\n",
              "14        (looks, great)     (reasonable, price)\n",
              "15       (light, weight)            (fit, great)\n",
              "16         (flip, flops)           (look, great)\n",
              "17    (absolutely, love)     (highly, recommend)\n",
              "18          (feel, like)            (kilt, belt)\n",
              "19          (love, love)            (make, sure)\n",
              "20       (good, product)        (quality, price)\n",
              "21         (order, size)           (size, jeans)\n",
              "22        (larger, size)     (comfortable, shoe)\n",
              "23           (glad, did)    (shoes, comfortable)\n",
              "24       (really, liked)  (comfortable, durable)\n",
              "25       (perfect, size)    (super, comfortable)\n",
              "26    (discounted, rate)             (fit, year)\n",
              "27       (arch, support)          (little, snug)\n",
              "28      (normally, wear)       (bought, husband)\n",
              "29       (ordered, size)            (fits, fine)"
            ],
            "text/html": [
              "\n",
              "  <div id=\"df-792d11dc-96af-4057-bfbd-ab9881016921\">\n",
              "    <div class=\"colab-df-container\">\n",
              "      <div>\n",
              "<style scoped>\n",
              "    .dataframe tbody tr th:only-of-type {\n",
              "        vertical-align: middle;\n",
              "    }\n",
              "\n",
              "    .dataframe tbody tr th {\n",
              "        vertical-align: top;\n",
              "    }\n",
              "\n",
              "    .dataframe thead th {\n",
              "        text-align: right;\n",
              "    }\n",
              "</style>\n",
              "<table border=\"1\" class=\"dataframe\">\n",
              "  <thead>\n",
              "    <tr style=\"text-align: right;\">\n",
              "      <th></th>\n",
              "      <th>unverified</th>\n",
              "      <th>verified</th>\n",
              "    </tr>\n",
              "  </thead>\n",
              "  <tbody>\n",
              "    <tr>\n",
              "      <th>0</th>\n",
              "      <td>(honest, review)</td>\n",
              "      <td>(great, quality)</td>\n",
              "    </tr>\n",
              "    <tr>\n",
              "      <th>1</th>\n",
              "      <td>(received, product)</td>\n",
              "      <td>(feel, like)</td>\n",
              "    </tr>\n",
              "    <tr>\n",
              "      <th>2</th>\n",
              "      <td>(exchange, honest)</td>\n",
              "      <td>(smaller, size)</td>\n",
              "    </tr>\n",
              "    <tr>\n",
              "      <th>3</th>\n",
              "      <td>(product, discount)</td>\n",
              "      <td>(arrived, quickly)</td>\n",
              "    </tr>\n",
              "    <tr>\n",
              "      <th>4</th>\n",
              "      <td>(wear, size)</td>\n",
              "      <td>(year, old)</td>\n",
              "    </tr>\n",
              "    <tr>\n",
              "      <th>5</th>\n",
              "      <td>(quick, drying)</td>\n",
              "      <td>(love, shoes)</td>\n",
              "    </tr>\n",
              "    <tr>\n",
              "      <th>6</th>\n",
              "      <td>(water, shoes)</td>\n",
              "      <td>(fit, perfect)</td>\n",
              "    </tr>\n",
              "    <tr>\n",
              "      <th>7</th>\n",
              "      <td>(year, old)</td>\n",
              "      <td>(different, colors)</td>\n",
              "    </tr>\n",
              "    <tr>\n",
              "      <th>8</th>\n",
              "      <td>(drying, water)</td>\n",
              "      <td>(good, quality)</td>\n",
              "    </tr>\n",
              "    <tr>\n",
              "      <th>9</th>\n",
              "      <td>(discount, exchange)</td>\n",
              "      <td>(fit, good)</td>\n",
              "    </tr>\n",
              "    <tr>\n",
              "      <th>10</th>\n",
              "      <td>(honest, unbiased)</td>\n",
              "      <td>(just, little)</td>\n",
              "    </tr>\n",
              "    <tr>\n",
              "      <th>11</th>\n",
              "      <td>(unbiased, review)</td>\n",
              "      <td>(good, product)</td>\n",
              "    </tr>\n",
              "    <tr>\n",
              "      <th>12</th>\n",
              "      <td>(great, quality)</td>\n",
              "      <td>(really, like)</td>\n",
              "    </tr>\n",
              "    <tr>\n",
              "      <th>13</th>\n",
              "      <td>(fit, perfectly)</td>\n",
              "      <td>(rigid, dragon)</td>\n",
              "    </tr>\n",
              "    <tr>\n",
              "      <th>14</th>\n",
              "      <td>(looks, great)</td>\n",
              "      <td>(reasonable, price)</td>\n",
              "    </tr>\n",
              "    <tr>\n",
              "      <th>15</th>\n",
              "      <td>(light, weight)</td>\n",
              "      <td>(fit, great)</td>\n",
              "    </tr>\n",
              "    <tr>\n",
              "      <th>16</th>\n",
              "      <td>(flip, flops)</td>\n",
              "      <td>(look, great)</td>\n",
              "    </tr>\n",
              "    <tr>\n",
              "      <th>17</th>\n",
              "      <td>(absolutely, love)</td>\n",
              "      <td>(highly, recommend)</td>\n",
              "    </tr>\n",
              "    <tr>\n",
              "      <th>18</th>\n",
              "      <td>(feel, like)</td>\n",
              "      <td>(kilt, belt)</td>\n",
              "    </tr>\n",
              "    <tr>\n",
              "      <th>19</th>\n",
              "      <td>(love, love)</td>\n",
              "      <td>(make, sure)</td>\n",
              "    </tr>\n",
              "    <tr>\n",
              "      <th>20</th>\n",
              "      <td>(good, product)</td>\n",
              "      <td>(quality, price)</td>\n",
              "    </tr>\n",
              "    <tr>\n",
              "      <th>21</th>\n",
              "      <td>(order, size)</td>\n",
              "      <td>(size, jeans)</td>\n",
              "    </tr>\n",
              "    <tr>\n",
              "      <th>22</th>\n",
              "      <td>(larger, size)</td>\n",
              "      <td>(comfortable, shoe)</td>\n",
              "    </tr>\n",
              "    <tr>\n",
              "      <th>23</th>\n",
              "      <td>(glad, did)</td>\n",
              "      <td>(shoes, comfortable)</td>\n",
              "    </tr>\n",
              "    <tr>\n",
              "      <th>24</th>\n",
              "      <td>(really, liked)</td>\n",
              "      <td>(comfortable, durable)</td>\n",
              "    </tr>\n",
              "    <tr>\n",
              "      <th>25</th>\n",
              "      <td>(perfect, size)</td>\n",
              "      <td>(super, comfortable)</td>\n",
              "    </tr>\n",
              "    <tr>\n",
              "      <th>26</th>\n",
              "      <td>(discounted, rate)</td>\n",
              "      <td>(fit, year)</td>\n",
              "    </tr>\n",
              "    <tr>\n",
              "      <th>27</th>\n",
              "      <td>(arch, support)</td>\n",
              "      <td>(little, snug)</td>\n",
              "    </tr>\n",
              "    <tr>\n",
              "      <th>28</th>\n",
              "      <td>(normally, wear)</td>\n",
              "      <td>(bought, husband)</td>\n",
              "    </tr>\n",
              "    <tr>\n",
              "      <th>29</th>\n",
              "      <td>(ordered, size)</td>\n",
              "      <td>(fits, fine)</td>\n",
              "    </tr>\n",
              "  </tbody>\n",
              "</table>\n",
              "</div>\n",
              "      <button class=\"colab-df-convert\" onclick=\"convertToInteractive('df-792d11dc-96af-4057-bfbd-ab9881016921')\"\n",
              "              title=\"Convert this dataframe to an interactive table.\"\n",
              "              style=\"display:none;\">\n",
              "        \n",
              "  <svg xmlns=\"http://www.w3.org/2000/svg\" height=\"24px\"viewBox=\"0 0 24 24\"\n",
              "       width=\"24px\">\n",
              "    <path d=\"M0 0h24v24H0V0z\" fill=\"none\"/>\n",
              "    <path d=\"M18.56 5.44l.94 2.06.94-2.06 2.06-.94-2.06-.94-.94-2.06-.94 2.06-2.06.94zm-11 1L8.5 8.5l.94-2.06 2.06-.94-2.06-.94L8.5 2.5l-.94 2.06-2.06.94zm10 10l.94 2.06.94-2.06 2.06-.94-2.06-.94-.94-2.06-.94 2.06-2.06.94z\"/><path d=\"M17.41 7.96l-1.37-1.37c-.4-.4-.92-.59-1.43-.59-.52 0-1.04.2-1.43.59L10.3 9.45l-7.72 7.72c-.78.78-.78 2.05 0 2.83L4 21.41c.39.39.9.59 1.41.59.51 0 1.02-.2 1.41-.59l7.78-7.78 2.81-2.81c.8-.78.8-2.07 0-2.86zM5.41 20L4 18.59l7.72-7.72 1.47 1.35L5.41 20z\"/>\n",
              "  </svg>\n",
              "      </button>\n",
              "      \n",
              "  <style>\n",
              "    .colab-df-container {\n",
              "      display:flex;\n",
              "      flex-wrap:wrap;\n",
              "      gap: 12px;\n",
              "    }\n",
              "\n",
              "    .colab-df-convert {\n",
              "      background-color: #E8F0FE;\n",
              "      border: none;\n",
              "      border-radius: 50%;\n",
              "      cursor: pointer;\n",
              "      display: none;\n",
              "      fill: #1967D2;\n",
              "      height: 32px;\n",
              "      padding: 0 0 0 0;\n",
              "      width: 32px;\n",
              "    }\n",
              "\n",
              "    .colab-df-convert:hover {\n",
              "      background-color: #E2EBFA;\n",
              "      box-shadow: 0px 1px 2px rgba(60, 64, 67, 0.3), 0px 1px 3px 1px rgba(60, 64, 67, 0.15);\n",
              "      fill: #174EA6;\n",
              "    }\n",
              "\n",
              "    [theme=dark] .colab-df-convert {\n",
              "      background-color: #3B4455;\n",
              "      fill: #D2E3FC;\n",
              "    }\n",
              "\n",
              "    [theme=dark] .colab-df-convert:hover {\n",
              "      background-color: #434B5C;\n",
              "      box-shadow: 0px 1px 3px 1px rgba(0, 0, 0, 0.15);\n",
              "      filter: drop-shadow(0px 1px 2px rgba(0, 0, 0, 0.3));\n",
              "      fill: #FFFFFF;\n",
              "    }\n",
              "  </style>\n",
              "\n",
              "      <script>\n",
              "        const buttonEl =\n",
              "          document.querySelector('#df-792d11dc-96af-4057-bfbd-ab9881016921 button.colab-df-convert');\n",
              "        buttonEl.style.display =\n",
              "          google.colab.kernel.accessAllowed ? 'block' : 'none';\n",
              "\n",
              "        async function convertToInteractive(key) {\n",
              "          const element = document.querySelector('#df-792d11dc-96af-4057-bfbd-ab9881016921');\n",
              "          const dataTable =\n",
              "            await google.colab.kernel.invokeFunction('convertToInteractive',\n",
              "                                                     [key], {});\n",
              "          if (!dataTable) return;\n",
              "\n",
              "          const docLinkHtml = 'Like what you see? Visit the ' +\n",
              "            '<a target=\"_blank\" href=https://colab.research.google.com/notebooks/data_table.ipynb>data table notebook</a>'\n",
              "            + ' to learn more about interactive tables.';\n",
              "          element.innerHTML = '';\n",
              "          dataTable['output_type'] = 'display_data';\n",
              "          await google.colab.output.renderOutput(dataTable, element);\n",
              "          const docLink = document.createElement('div');\n",
              "          docLink.innerHTML = docLinkHtml;\n",
              "          element.appendChild(docLink);\n",
              "        }\n",
              "      </script>\n",
              "    </div>\n",
              "  </div>\n",
              "  "
            ]
          },
          "metadata": {}
        }
      ]
    },
    {
      "cell_type": "markdown",
      "source": [
        "#### Calculate Bigram Jaccard Similarity"
      ],
      "metadata": {
        "id": "YcrAxCmx4GNS"
      }
    },
    {
      "cell_type": "code",
      "source": [
        "# Initialize similarity matrix\n",
        "sims_bi = defaultdict(Counter)\n",
        "\n",
        "# Fill similarity matrix\n",
        "for l_1 in labels:\n",
        "    for l_2 in labels:\n",
        "        sims_bi[l_1][l_2] = jaccard_sim(set(vocab_bi[l_1]), set(vocab_bi[l_2]))\n",
        "        \n",
        "# Display similarity matrix\n",
        "pd.DataFrame.from_dict(sims_bi, orient='index', columns=labels).reindex(index=labels)"
      ],
      "metadata": {
        "colab": {
          "base_uri": "https://localhost:8080/",
          "height": 112
        },
        "id": "9XDuUGau1Klc",
        "outputId": "07356e60-23d3-4dc4-8be9-6062c27e607b"
      },
      "execution_count": 22,
      "outputs": [
        {
          "output_type": "execute_result",
          "data": {
            "text/plain": [
              "            unverified  verified\n",
              "unverified    1.000000  0.020076\n",
              "verified      0.020076  1.000000"
            ],
            "text/html": [
              "\n",
              "  <div id=\"df-15ff3735-9646-41fe-82e9-b5582bec2a7b\">\n",
              "    <div class=\"colab-df-container\">\n",
              "      <div>\n",
              "<style scoped>\n",
              "    .dataframe tbody tr th:only-of-type {\n",
              "        vertical-align: middle;\n",
              "    }\n",
              "\n",
              "    .dataframe tbody tr th {\n",
              "        vertical-align: top;\n",
              "    }\n",
              "\n",
              "    .dataframe thead th {\n",
              "        text-align: right;\n",
              "    }\n",
              "</style>\n",
              "<table border=\"1\" class=\"dataframe\">\n",
              "  <thead>\n",
              "    <tr style=\"text-align: right;\">\n",
              "      <th></th>\n",
              "      <th>unverified</th>\n",
              "      <th>verified</th>\n",
              "    </tr>\n",
              "  </thead>\n",
              "  <tbody>\n",
              "    <tr>\n",
              "      <th>unverified</th>\n",
              "      <td>1.000000</td>\n",
              "      <td>0.020076</td>\n",
              "    </tr>\n",
              "    <tr>\n",
              "      <th>verified</th>\n",
              "      <td>0.020076</td>\n",
              "      <td>1.000000</td>\n",
              "    </tr>\n",
              "  </tbody>\n",
              "</table>\n",
              "</div>\n",
              "      <button class=\"colab-df-convert\" onclick=\"convertToInteractive('df-15ff3735-9646-41fe-82e9-b5582bec2a7b')\"\n",
              "              title=\"Convert this dataframe to an interactive table.\"\n",
              "              style=\"display:none;\">\n",
              "        \n",
              "  <svg xmlns=\"http://www.w3.org/2000/svg\" height=\"24px\"viewBox=\"0 0 24 24\"\n",
              "       width=\"24px\">\n",
              "    <path d=\"M0 0h24v24H0V0z\" fill=\"none\"/>\n",
              "    <path d=\"M18.56 5.44l.94 2.06.94-2.06 2.06-.94-2.06-.94-.94-2.06-.94 2.06-2.06.94zm-11 1L8.5 8.5l.94-2.06 2.06-.94-2.06-.94L8.5 2.5l-.94 2.06-2.06.94zm10 10l.94 2.06.94-2.06 2.06-.94-2.06-.94-.94-2.06-.94 2.06-2.06.94z\"/><path d=\"M17.41 7.96l-1.37-1.37c-.4-.4-.92-.59-1.43-.59-.52 0-1.04.2-1.43.59L10.3 9.45l-7.72 7.72c-.78.78-.78 2.05 0 2.83L4 21.41c.39.39.9.59 1.41.59.51 0 1.02-.2 1.41-.59l7.78-7.78 2.81-2.81c.8-.78.8-2.07 0-2.86zM5.41 20L4 18.59l7.72-7.72 1.47 1.35L5.41 20z\"/>\n",
              "  </svg>\n",
              "      </button>\n",
              "      \n",
              "  <style>\n",
              "    .colab-df-container {\n",
              "      display:flex;\n",
              "      flex-wrap:wrap;\n",
              "      gap: 12px;\n",
              "    }\n",
              "\n",
              "    .colab-df-convert {\n",
              "      background-color: #E8F0FE;\n",
              "      border: none;\n",
              "      border-radius: 50%;\n",
              "      cursor: pointer;\n",
              "      display: none;\n",
              "      fill: #1967D2;\n",
              "      height: 32px;\n",
              "      padding: 0 0 0 0;\n",
              "      width: 32px;\n",
              "    }\n",
              "\n",
              "    .colab-df-convert:hover {\n",
              "      background-color: #E2EBFA;\n",
              "      box-shadow: 0px 1px 2px rgba(60, 64, 67, 0.3), 0px 1px 3px 1px rgba(60, 64, 67, 0.15);\n",
              "      fill: #174EA6;\n",
              "    }\n",
              "\n",
              "    [theme=dark] .colab-df-convert {\n",
              "      background-color: #3B4455;\n",
              "      fill: #D2E3FC;\n",
              "    }\n",
              "\n",
              "    [theme=dark] .colab-df-convert:hover {\n",
              "      background-color: #434B5C;\n",
              "      box-shadow: 0px 1px 3px 1px rgba(0, 0, 0, 0.15);\n",
              "      filter: drop-shadow(0px 1px 2px rgba(0, 0, 0, 0.3));\n",
              "      fill: #FFFFFF;\n",
              "    }\n",
              "  </style>\n",
              "\n",
              "      <script>\n",
              "        const buttonEl =\n",
              "          document.querySelector('#df-15ff3735-9646-41fe-82e9-b5582bec2a7b button.colab-df-convert');\n",
              "        buttonEl.style.display =\n",
              "          google.colab.kernel.accessAllowed ? 'block' : 'none';\n",
              "\n",
              "        async function convertToInteractive(key) {\n",
              "          const element = document.querySelector('#df-15ff3735-9646-41fe-82e9-b5582bec2a7b');\n",
              "          const dataTable =\n",
              "            await google.colab.kernel.invokeFunction('convertToInteractive',\n",
              "                                                     [key], {});\n",
              "          if (!dataTable) return;\n",
              "\n",
              "          const docLinkHtml = 'Like what you see? Visit the ' +\n",
              "            '<a target=\"_blank\" href=https://colab.research.google.com/notebooks/data_table.ipynb>data table notebook</a>'\n",
              "            + ' to learn more about interactive tables.';\n",
              "          element.innerHTML = '';\n",
              "          dataTable['output_type'] = 'display_data';\n",
              "          await google.colab.output.renderOutput(dataTable, element);\n",
              "          const docLink = document.createElement('div');\n",
              "          docLink.innerHTML = docLinkHtml;\n",
              "          element.appendChild(docLink);\n",
              "        }\n",
              "      </script>\n",
              "    </div>\n",
              "  </div>\n",
              "  "
            ]
          },
          "metadata": {},
          "execution_count": 22
        }
      ]
    },
    {
      "cell_type": "markdown",
      "source": [
        "### Cosine Similarity of Review Embeddings"
      ],
      "metadata": {
        "id": "BFGB3GnI7lsF"
      }
    },
    {
      "cell_type": "code",
      "source": [
        "# Define function to compute review embedding\n",
        "def review2vector(review, vectors):\n",
        "    return np.mean([vectors[w] for w in review if w in vectors and w not in stops], axis=0)"
      ],
      "metadata": {
        "id": "A7ojA8C07k16"
      },
      "execution_count": 31,
      "outputs": []
    },
    {
      "cell_type": "code",
      "source": [
        "# Generate new column in dataframe containing review embeddings\n",
        "train['vector'] = train['cleaned'].apply(lambda x: review2vector(x, fasttext_vecs))"
      ],
      "metadata": {
        "colab": {
          "base_uri": "https://localhost:8080/",
          "height": 0
        },
        "id": "W1E8-Kin7r_d",
        "outputId": "a22589fd-91d2-4253-c106-e1ab3b29a914"
      },
      "execution_count": 32,
      "outputs": [
        {
          "output_type": "stream",
          "name": "stderr",
          "text": [
            "/usr/local/lib/python3.7/dist-packages/numpy/core/fromnumeric.py:3441: RuntimeWarning: Mean of empty slice.\n",
            "  out=out, **kwargs)\n"
          ]
        }
      ]
    },
    {
      "cell_type": "code",
      "source": [
        "# Create dictionary with aggregated review vectors\n",
        "review_vectors = {l: np.mean(train[train.label==label2id[l]].vector, axis=0) for l in labels}"
      ],
      "metadata": {
        "id": "jrDnVL4U-5Kv"
      },
      "execution_count": 33,
      "outputs": []
    },
    {
      "cell_type": "code",
      "source": [
        "def cosine_sim(v_i, v_j):\n",
        "    return 1 - cosine(v_i, v_j)"
      ],
      "metadata": {
        "id": "sdamLfsx_kRn"
      },
      "execution_count": 34,
      "outputs": []
    },
    {
      "cell_type": "code",
      "source": [
        "# Initialize table as dictionary\n",
        "table = dict()\n",
        "\n",
        "for l_i in labels:\n",
        "    \n",
        "    # Skip RANDOM category    \n",
        "    if l_i == 'RANDOM':\n",
        "        continue\n",
        "    \n",
        "    table[l_i] = list()\n",
        "    \n",
        "    for l_j in labels:\n",
        "        \n",
        "        # Calculate Cosine similarity\n",
        "        table[l_i].append(cosine_sim(review_vectors[l_i], review_vectors[l_j]))"
      ],
      "metadata": {
        "id": "QHDDZ_xj_Mqa"
      },
      "execution_count": 35,
      "outputs": []
    },
    {
      "cell_type": "code",
      "source": [
        "# Display table\n",
        "pd.DataFrame.from_dict(table, orient='index', columns=labels).reindex(index=[l for l in labels])"
      ],
      "metadata": {
        "colab": {
          "base_uri": "https://localhost:8080/",
          "height": 112
        },
        "id": "lSRciU8sAAi_",
        "outputId": "dee5f7d7-d30a-41af-913c-eab0e56efd45"
      },
      "execution_count": 36,
      "outputs": [
        {
          "output_type": "execute_result",
          "data": {
            "text/plain": [
              "            unverified  verified\n",
              "unverified    1.000000  0.989542\n",
              "verified      0.989542  1.000000"
            ],
            "text/html": [
              "\n",
              "  <div id=\"df-e0d9623b-0c40-42e0-bfc1-1f5a41e80bfb\">\n",
              "    <div class=\"colab-df-container\">\n",
              "      <div>\n",
              "<style scoped>\n",
              "    .dataframe tbody tr th:only-of-type {\n",
              "        vertical-align: middle;\n",
              "    }\n",
              "\n",
              "    .dataframe tbody tr th {\n",
              "        vertical-align: top;\n",
              "    }\n",
              "\n",
              "    .dataframe thead th {\n",
              "        text-align: right;\n",
              "    }\n",
              "</style>\n",
              "<table border=\"1\" class=\"dataframe\">\n",
              "  <thead>\n",
              "    <tr style=\"text-align: right;\">\n",
              "      <th></th>\n",
              "      <th>unverified</th>\n",
              "      <th>verified</th>\n",
              "    </tr>\n",
              "  </thead>\n",
              "  <tbody>\n",
              "    <tr>\n",
              "      <th>unverified</th>\n",
              "      <td>1.000000</td>\n",
              "      <td>0.989542</td>\n",
              "    </tr>\n",
              "    <tr>\n",
              "      <th>verified</th>\n",
              "      <td>0.989542</td>\n",
              "      <td>1.000000</td>\n",
              "    </tr>\n",
              "  </tbody>\n",
              "</table>\n",
              "</div>\n",
              "      <button class=\"colab-df-convert\" onclick=\"convertToInteractive('df-e0d9623b-0c40-42e0-bfc1-1f5a41e80bfb')\"\n",
              "              title=\"Convert this dataframe to an interactive table.\"\n",
              "              style=\"display:none;\">\n",
              "        \n",
              "  <svg xmlns=\"http://www.w3.org/2000/svg\" height=\"24px\"viewBox=\"0 0 24 24\"\n",
              "       width=\"24px\">\n",
              "    <path d=\"M0 0h24v24H0V0z\" fill=\"none\"/>\n",
              "    <path d=\"M18.56 5.44l.94 2.06.94-2.06 2.06-.94-2.06-.94-.94-2.06-.94 2.06-2.06.94zm-11 1L8.5 8.5l.94-2.06 2.06-.94-2.06-.94L8.5 2.5l-.94 2.06-2.06.94zm10 10l.94 2.06.94-2.06 2.06-.94-2.06-.94-.94-2.06-.94 2.06-2.06.94z\"/><path d=\"M17.41 7.96l-1.37-1.37c-.4-.4-.92-.59-1.43-.59-.52 0-1.04.2-1.43.59L10.3 9.45l-7.72 7.72c-.78.78-.78 2.05 0 2.83L4 21.41c.39.39.9.59 1.41.59.51 0 1.02-.2 1.41-.59l7.78-7.78 2.81-2.81c.8-.78.8-2.07 0-2.86zM5.41 20L4 18.59l7.72-7.72 1.47 1.35L5.41 20z\"/>\n",
              "  </svg>\n",
              "      </button>\n",
              "      \n",
              "  <style>\n",
              "    .colab-df-container {\n",
              "      display:flex;\n",
              "      flex-wrap:wrap;\n",
              "      gap: 12px;\n",
              "    }\n",
              "\n",
              "    .colab-df-convert {\n",
              "      background-color: #E8F0FE;\n",
              "      border: none;\n",
              "      border-radius: 50%;\n",
              "      cursor: pointer;\n",
              "      display: none;\n",
              "      fill: #1967D2;\n",
              "      height: 32px;\n",
              "      padding: 0 0 0 0;\n",
              "      width: 32px;\n",
              "    }\n",
              "\n",
              "    .colab-df-convert:hover {\n",
              "      background-color: #E2EBFA;\n",
              "      box-shadow: 0px 1px 2px rgba(60, 64, 67, 0.3), 0px 1px 3px 1px rgba(60, 64, 67, 0.15);\n",
              "      fill: #174EA6;\n",
              "    }\n",
              "\n",
              "    [theme=dark] .colab-df-convert {\n",
              "      background-color: #3B4455;\n",
              "      fill: #D2E3FC;\n",
              "    }\n",
              "\n",
              "    [theme=dark] .colab-df-convert:hover {\n",
              "      background-color: #434B5C;\n",
              "      box-shadow: 0px 1px 3px 1px rgba(0, 0, 0, 0.15);\n",
              "      filter: drop-shadow(0px 1px 2px rgba(0, 0, 0, 0.3));\n",
              "      fill: #FFFFFF;\n",
              "    }\n",
              "  </style>\n",
              "\n",
              "      <script>\n",
              "        const buttonEl =\n",
              "          document.querySelector('#df-e0d9623b-0c40-42e0-bfc1-1f5a41e80bfb button.colab-df-convert');\n",
              "        buttonEl.style.display =\n",
              "          google.colab.kernel.accessAllowed ? 'block' : 'none';\n",
              "\n",
              "        async function convertToInteractive(key) {\n",
              "          const element = document.querySelector('#df-e0d9623b-0c40-42e0-bfc1-1f5a41e80bfb');\n",
              "          const dataTable =\n",
              "            await google.colab.kernel.invokeFunction('convertToInteractive',\n",
              "                                                     [key], {});\n",
              "          if (!dataTable) return;\n",
              "\n",
              "          const docLinkHtml = 'Like what you see? Visit the ' +\n",
              "            '<a target=\"_blank\" href=https://colab.research.google.com/notebooks/data_table.ipynb>data table notebook</a>'\n",
              "            + ' to learn more about interactive tables.';\n",
              "          element.innerHTML = '';\n",
              "          dataTable['output_type'] = 'display_data';\n",
              "          await google.colab.output.renderOutput(dataTable, element);\n",
              "          const docLink = document.createElement('div');\n",
              "          docLink.innerHTML = docLinkHtml;\n",
              "          element.appendChild(docLink);\n",
              "        }\n",
              "      </script>\n",
              "    </div>\n",
              "  </div>\n",
              "  "
            ]
          },
          "metadata": {},
          "execution_count": 36
        }
      ]
    },
    {
      "cell_type": "markdown",
      "source": [
        "## Analyze Sentiment"
      ],
      "metadata": {
        "id": "VDABOOP00rTl"
      }
    },
    {
      "cell_type": "code",
      "source": [
        "def score2int(score):\n",
        "    '''\n",
        "    Utility function to classify the polarity of a review\n",
        "    using textblob and vader.\n",
        "    '''\n",
        "    label = 1 # assume neutral\n",
        "    \n",
        "    # positive \n",
        "    if score > 0.05:\n",
        "        label = 2\n",
        "    \n",
        "    # negative \n",
        "    elif score < -0.5:\n",
        "        label = 0\n",
        "        \n",
        "    return label"
      ],
      "metadata": {
        "id": "kcFGIHCG0qfR"
      },
      "execution_count": 30,
      "outputs": []
    },
    {
      "cell_type": "code",
      "source": [
        "# create vader sentiment analyser\n",
        "vader_obj = SentimentIntensityAnalyzer()\n",
        "\n",
        "# Describe avg sentiment of unverified & verified reviews\n",
        "# \n",
        "\n",
        "train['textblob'] = train['text'].apply(lambda x: TextBlob(x).sentiment[0])\n",
        "train['vader'] = train['text'].apply(lambda x: vader_obj.polarity_scores(x)['compound'])\n",
        "\n",
        "for l_i in labels: \n",
        "    print(l_i.upper())\n",
        "    display(train[train['label']==label2id[l_i]].describe())"
      ],
      "metadata": {
        "colab": {
          "base_uri": "https://localhost:8080/",
          "height": 619
        },
        "id": "OuFq-XlL1Bkn",
        "outputId": "25ea7cf9-24be-40b1-b4c4-ee453e950b8a"
      },
      "execution_count": 31,
      "outputs": [
        {
          "output_type": "stream",
          "name": "stdout",
          "text": [
            "UNVERIFIED\n"
          ]
        },
        {
          "output_type": "display_data",
          "data": {
            "text/plain": [
              "           rating  label    textblob       vader\n",
              "count  160.000000  160.0  160.000000  160.000000\n",
              "mean     4.250000    0.0    0.320126    0.629121\n",
              "std      1.170927    0.0    0.280761    0.408304\n",
              "min      1.000000    0.0   -0.700000   -0.740700\n",
              "25%      4.000000    0.0    0.145942    0.510275\n",
              "50%      5.000000    0.0    0.305808    0.782300\n",
              "75%      5.000000    0.0    0.500000    0.924725\n",
              "max      5.000000    0.0    1.000000    0.997400"
            ],
            "text/html": [
              "\n",
              "  <div id=\"df-3cfd86e9-9b4b-4050-9031-fdfc101ec368\">\n",
              "    <div class=\"colab-df-container\">\n",
              "      <div>\n",
              "<style scoped>\n",
              "    .dataframe tbody tr th:only-of-type {\n",
              "        vertical-align: middle;\n",
              "    }\n",
              "\n",
              "    .dataframe tbody tr th {\n",
              "        vertical-align: top;\n",
              "    }\n",
              "\n",
              "    .dataframe thead th {\n",
              "        text-align: right;\n",
              "    }\n",
              "</style>\n",
              "<table border=\"1\" class=\"dataframe\">\n",
              "  <thead>\n",
              "    <tr style=\"text-align: right;\">\n",
              "      <th></th>\n",
              "      <th>rating</th>\n",
              "      <th>label</th>\n",
              "      <th>textblob</th>\n",
              "      <th>vader</th>\n",
              "    </tr>\n",
              "  </thead>\n",
              "  <tbody>\n",
              "    <tr>\n",
              "      <th>count</th>\n",
              "      <td>160.000000</td>\n",
              "      <td>160.0</td>\n",
              "      <td>160.000000</td>\n",
              "      <td>160.000000</td>\n",
              "    </tr>\n",
              "    <tr>\n",
              "      <th>mean</th>\n",
              "      <td>4.250000</td>\n",
              "      <td>0.0</td>\n",
              "      <td>0.320126</td>\n",
              "      <td>0.629121</td>\n",
              "    </tr>\n",
              "    <tr>\n",
              "      <th>std</th>\n",
              "      <td>1.170927</td>\n",
              "      <td>0.0</td>\n",
              "      <td>0.280761</td>\n",
              "      <td>0.408304</td>\n",
              "    </tr>\n",
              "    <tr>\n",
              "      <th>min</th>\n",
              "      <td>1.000000</td>\n",
              "      <td>0.0</td>\n",
              "      <td>-0.700000</td>\n",
              "      <td>-0.740700</td>\n",
              "    </tr>\n",
              "    <tr>\n",
              "      <th>25%</th>\n",
              "      <td>4.000000</td>\n",
              "      <td>0.0</td>\n",
              "      <td>0.145942</td>\n",
              "      <td>0.510275</td>\n",
              "    </tr>\n",
              "    <tr>\n",
              "      <th>50%</th>\n",
              "      <td>5.000000</td>\n",
              "      <td>0.0</td>\n",
              "      <td>0.305808</td>\n",
              "      <td>0.782300</td>\n",
              "    </tr>\n",
              "    <tr>\n",
              "      <th>75%</th>\n",
              "      <td>5.000000</td>\n",
              "      <td>0.0</td>\n",
              "      <td>0.500000</td>\n",
              "      <td>0.924725</td>\n",
              "    </tr>\n",
              "    <tr>\n",
              "      <th>max</th>\n",
              "      <td>5.000000</td>\n",
              "      <td>0.0</td>\n",
              "      <td>1.000000</td>\n",
              "      <td>0.997400</td>\n",
              "    </tr>\n",
              "  </tbody>\n",
              "</table>\n",
              "</div>\n",
              "      <button class=\"colab-df-convert\" onclick=\"convertToInteractive('df-3cfd86e9-9b4b-4050-9031-fdfc101ec368')\"\n",
              "              title=\"Convert this dataframe to an interactive table.\"\n",
              "              style=\"display:none;\">\n",
              "        \n",
              "  <svg xmlns=\"http://www.w3.org/2000/svg\" height=\"24px\"viewBox=\"0 0 24 24\"\n",
              "       width=\"24px\">\n",
              "    <path d=\"M0 0h24v24H0V0z\" fill=\"none\"/>\n",
              "    <path d=\"M18.56 5.44l.94 2.06.94-2.06 2.06-.94-2.06-.94-.94-2.06-.94 2.06-2.06.94zm-11 1L8.5 8.5l.94-2.06 2.06-.94-2.06-.94L8.5 2.5l-.94 2.06-2.06.94zm10 10l.94 2.06.94-2.06 2.06-.94-2.06-.94-.94-2.06-.94 2.06-2.06.94z\"/><path d=\"M17.41 7.96l-1.37-1.37c-.4-.4-.92-.59-1.43-.59-.52 0-1.04.2-1.43.59L10.3 9.45l-7.72 7.72c-.78.78-.78 2.05 0 2.83L4 21.41c.39.39.9.59 1.41.59.51 0 1.02-.2 1.41-.59l7.78-7.78 2.81-2.81c.8-.78.8-2.07 0-2.86zM5.41 20L4 18.59l7.72-7.72 1.47 1.35L5.41 20z\"/>\n",
              "  </svg>\n",
              "      </button>\n",
              "      \n",
              "  <style>\n",
              "    .colab-df-container {\n",
              "      display:flex;\n",
              "      flex-wrap:wrap;\n",
              "      gap: 12px;\n",
              "    }\n",
              "\n",
              "    .colab-df-convert {\n",
              "      background-color: #E8F0FE;\n",
              "      border: none;\n",
              "      border-radius: 50%;\n",
              "      cursor: pointer;\n",
              "      display: none;\n",
              "      fill: #1967D2;\n",
              "      height: 32px;\n",
              "      padding: 0 0 0 0;\n",
              "      width: 32px;\n",
              "    }\n",
              "\n",
              "    .colab-df-convert:hover {\n",
              "      background-color: #E2EBFA;\n",
              "      box-shadow: 0px 1px 2px rgba(60, 64, 67, 0.3), 0px 1px 3px 1px rgba(60, 64, 67, 0.15);\n",
              "      fill: #174EA6;\n",
              "    }\n",
              "\n",
              "    [theme=dark] .colab-df-convert {\n",
              "      background-color: #3B4455;\n",
              "      fill: #D2E3FC;\n",
              "    }\n",
              "\n",
              "    [theme=dark] .colab-df-convert:hover {\n",
              "      background-color: #434B5C;\n",
              "      box-shadow: 0px 1px 3px 1px rgba(0, 0, 0, 0.15);\n",
              "      filter: drop-shadow(0px 1px 2px rgba(0, 0, 0, 0.3));\n",
              "      fill: #FFFFFF;\n",
              "    }\n",
              "  </style>\n",
              "\n",
              "      <script>\n",
              "        const buttonEl =\n",
              "          document.querySelector('#df-3cfd86e9-9b4b-4050-9031-fdfc101ec368 button.colab-df-convert');\n",
              "        buttonEl.style.display =\n",
              "          google.colab.kernel.accessAllowed ? 'block' : 'none';\n",
              "\n",
              "        async function convertToInteractive(key) {\n",
              "          const element = document.querySelector('#df-3cfd86e9-9b4b-4050-9031-fdfc101ec368');\n",
              "          const dataTable =\n",
              "            await google.colab.kernel.invokeFunction('convertToInteractive',\n",
              "                                                     [key], {});\n",
              "          if (!dataTable) return;\n",
              "\n",
              "          const docLinkHtml = 'Like what you see? Visit the ' +\n",
              "            '<a target=\"_blank\" href=https://colab.research.google.com/notebooks/data_table.ipynb>data table notebook</a>'\n",
              "            + ' to learn more about interactive tables.';\n",
              "          element.innerHTML = '';\n",
              "          dataTable['output_type'] = 'display_data';\n",
              "          await google.colab.output.renderOutput(dataTable, element);\n",
              "          const docLink = document.createElement('div');\n",
              "          docLink.innerHTML = docLinkHtml;\n",
              "          element.appendChild(docLink);\n",
              "        }\n",
              "      </script>\n",
              "    </div>\n",
              "  </div>\n",
              "  "
            ]
          },
          "metadata": {}
        },
        {
          "output_type": "stream",
          "name": "stdout",
          "text": [
            "VERIFIED\n"
          ]
        },
        {
          "output_type": "display_data",
          "data": {
            "text/plain": [
              "          rating  label    textblob       vader\n",
              "count  160.00000  160.0  160.000000  160.000000\n",
              "mean     4.45625    1.0    0.315703    0.570189\n",
              "std      0.96379    0.0    0.269772    0.386195\n",
              "min      1.00000    1.0   -0.250000   -0.771100\n",
              "25%      4.00000    1.0    0.120833    0.421150\n",
              "50%      5.00000    1.0    0.270133    0.682300\n",
              "75%      5.00000    1.0    0.492500    0.866125\n",
              "max      5.00000    1.0    1.000000    0.980100"
            ],
            "text/html": [
              "\n",
              "  <div id=\"df-040d83ec-c44e-457b-80b8-826c101c2aa2\">\n",
              "    <div class=\"colab-df-container\">\n",
              "      <div>\n",
              "<style scoped>\n",
              "    .dataframe tbody tr th:only-of-type {\n",
              "        vertical-align: middle;\n",
              "    }\n",
              "\n",
              "    .dataframe tbody tr th {\n",
              "        vertical-align: top;\n",
              "    }\n",
              "\n",
              "    .dataframe thead th {\n",
              "        text-align: right;\n",
              "    }\n",
              "</style>\n",
              "<table border=\"1\" class=\"dataframe\">\n",
              "  <thead>\n",
              "    <tr style=\"text-align: right;\">\n",
              "      <th></th>\n",
              "      <th>rating</th>\n",
              "      <th>label</th>\n",
              "      <th>textblob</th>\n",
              "      <th>vader</th>\n",
              "    </tr>\n",
              "  </thead>\n",
              "  <tbody>\n",
              "    <tr>\n",
              "      <th>count</th>\n",
              "      <td>160.00000</td>\n",
              "      <td>160.0</td>\n",
              "      <td>160.000000</td>\n",
              "      <td>160.000000</td>\n",
              "    </tr>\n",
              "    <tr>\n",
              "      <th>mean</th>\n",
              "      <td>4.45625</td>\n",
              "      <td>1.0</td>\n",
              "      <td>0.315703</td>\n",
              "      <td>0.570189</td>\n",
              "    </tr>\n",
              "    <tr>\n",
              "      <th>std</th>\n",
              "      <td>0.96379</td>\n",
              "      <td>0.0</td>\n",
              "      <td>0.269772</td>\n",
              "      <td>0.386195</td>\n",
              "    </tr>\n",
              "    <tr>\n",
              "      <th>min</th>\n",
              "      <td>1.00000</td>\n",
              "      <td>1.0</td>\n",
              "      <td>-0.250000</td>\n",
              "      <td>-0.771100</td>\n",
              "    </tr>\n",
              "    <tr>\n",
              "      <th>25%</th>\n",
              "      <td>4.00000</td>\n",
              "      <td>1.0</td>\n",
              "      <td>0.120833</td>\n",
              "      <td>0.421150</td>\n",
              "    </tr>\n",
              "    <tr>\n",
              "      <th>50%</th>\n",
              "      <td>5.00000</td>\n",
              "      <td>1.0</td>\n",
              "      <td>0.270133</td>\n",
              "      <td>0.682300</td>\n",
              "    </tr>\n",
              "    <tr>\n",
              "      <th>75%</th>\n",
              "      <td>5.00000</td>\n",
              "      <td>1.0</td>\n",
              "      <td>0.492500</td>\n",
              "      <td>0.866125</td>\n",
              "    </tr>\n",
              "    <tr>\n",
              "      <th>max</th>\n",
              "      <td>5.00000</td>\n",
              "      <td>1.0</td>\n",
              "      <td>1.000000</td>\n",
              "      <td>0.980100</td>\n",
              "    </tr>\n",
              "  </tbody>\n",
              "</table>\n",
              "</div>\n",
              "      <button class=\"colab-df-convert\" onclick=\"convertToInteractive('df-040d83ec-c44e-457b-80b8-826c101c2aa2')\"\n",
              "              title=\"Convert this dataframe to an interactive table.\"\n",
              "              style=\"display:none;\">\n",
              "        \n",
              "  <svg xmlns=\"http://www.w3.org/2000/svg\" height=\"24px\"viewBox=\"0 0 24 24\"\n",
              "       width=\"24px\">\n",
              "    <path d=\"M0 0h24v24H0V0z\" fill=\"none\"/>\n",
              "    <path d=\"M18.56 5.44l.94 2.06.94-2.06 2.06-.94-2.06-.94-.94-2.06-.94 2.06-2.06.94zm-11 1L8.5 8.5l.94-2.06 2.06-.94-2.06-.94L8.5 2.5l-.94 2.06-2.06.94zm10 10l.94 2.06.94-2.06 2.06-.94-2.06-.94-.94-2.06-.94 2.06-2.06.94z\"/><path d=\"M17.41 7.96l-1.37-1.37c-.4-.4-.92-.59-1.43-.59-.52 0-1.04.2-1.43.59L10.3 9.45l-7.72 7.72c-.78.78-.78 2.05 0 2.83L4 21.41c.39.39.9.59 1.41.59.51 0 1.02-.2 1.41-.59l7.78-7.78 2.81-2.81c.8-.78.8-2.07 0-2.86zM5.41 20L4 18.59l7.72-7.72 1.47 1.35L5.41 20z\"/>\n",
              "  </svg>\n",
              "      </button>\n",
              "      \n",
              "  <style>\n",
              "    .colab-df-container {\n",
              "      display:flex;\n",
              "      flex-wrap:wrap;\n",
              "      gap: 12px;\n",
              "    }\n",
              "\n",
              "    .colab-df-convert {\n",
              "      background-color: #E8F0FE;\n",
              "      border: none;\n",
              "      border-radius: 50%;\n",
              "      cursor: pointer;\n",
              "      display: none;\n",
              "      fill: #1967D2;\n",
              "      height: 32px;\n",
              "      padding: 0 0 0 0;\n",
              "      width: 32px;\n",
              "    }\n",
              "\n",
              "    .colab-df-convert:hover {\n",
              "      background-color: #E2EBFA;\n",
              "      box-shadow: 0px 1px 2px rgba(60, 64, 67, 0.3), 0px 1px 3px 1px rgba(60, 64, 67, 0.15);\n",
              "      fill: #174EA6;\n",
              "    }\n",
              "\n",
              "    [theme=dark] .colab-df-convert {\n",
              "      background-color: #3B4455;\n",
              "      fill: #D2E3FC;\n",
              "    }\n",
              "\n",
              "    [theme=dark] .colab-df-convert:hover {\n",
              "      background-color: #434B5C;\n",
              "      box-shadow: 0px 1px 3px 1px rgba(0, 0, 0, 0.15);\n",
              "      filter: drop-shadow(0px 1px 2px rgba(0, 0, 0, 0.3));\n",
              "      fill: #FFFFFF;\n",
              "    }\n",
              "  </style>\n",
              "\n",
              "      <script>\n",
              "        const buttonEl =\n",
              "          document.querySelector('#df-040d83ec-c44e-457b-80b8-826c101c2aa2 button.colab-df-convert');\n",
              "        buttonEl.style.display =\n",
              "          google.colab.kernel.accessAllowed ? 'block' : 'none';\n",
              "\n",
              "        async function convertToInteractive(key) {\n",
              "          const element = document.querySelector('#df-040d83ec-c44e-457b-80b8-826c101c2aa2');\n",
              "          const dataTable =\n",
              "            await google.colab.kernel.invokeFunction('convertToInteractive',\n",
              "                                                     [key], {});\n",
              "          if (!dataTable) return;\n",
              "\n",
              "          const docLinkHtml = 'Like what you see? Visit the ' +\n",
              "            '<a target=\"_blank\" href=https://colab.research.google.com/notebooks/data_table.ipynb>data table notebook</a>'\n",
              "            + ' to learn more about interactive tables.';\n",
              "          element.innerHTML = '';\n",
              "          dataTable['output_type'] = 'display_data';\n",
              "          await google.colab.output.renderOutput(dataTable, element);\n",
              "          const docLink = document.createElement('div');\n",
              "          docLink.innerHTML = docLinkHtml;\n",
              "          element.appendChild(docLink);\n",
              "        }\n",
              "      </script>\n",
              "    </div>\n",
              "  </div>\n",
              "  "
            ]
          },
          "metadata": {}
        }
      ]
    },
    {
      "cell_type": "markdown",
      "source": [
        "# TSNE"
      ],
      "metadata": {
        "id": "G5f87AKfGosN"
      }
    },
    {
      "cell_type": "markdown",
      "source": [
        "# Build Classifiers"
      ],
      "metadata": {
        "id": "TIbvg2m7npNN"
      }
    },
    {
      "cell_type": "code",
      "source": [
        "# Create dictionary for word look-up\n",
        "word_counter = Counter([w for r in train.cleaned for w in r])\n",
        "w2id = {w: i + 2 for i, w in enumerate(w for w, c in word_counter.most_common())}\n",
        "\n",
        "# Create dictionary for reverse word look-up\n",
        "id2w = {i: w for w, i in w2id.items()}"
      ],
      "metadata": {
        "id": "UIDi2KHynm_w"
      },
      "execution_count": 11,
      "outputs": []
    },
    {
      "cell_type": "markdown",
      "source": [
        "## Naive Bayes"
      ],
      "metadata": {
        "id": "mYqKwwRIhsnT"
      }
    },
    {
      "cell_type": "code",
      "source": [
        "# Define function to get P(w|c_i), class-conditional propbabilities for w\n",
        "def naive_bayes_unsmoothed(vocab, labels):\n",
        "    \n",
        "    # Calculate unsmoothed probabilities\n",
        "    probabilities = dict()\n",
        "    \n",
        "    for l_i in labels:\n",
        "        \n",
        "        # First, we create a partial copy of our vocab count dict, selecting only words that occur in both classes (--> no smoothing)\n",
        "        probabilities[l_i] = {word: vocab[l_i][word] for word in vocab[l_i] if vocab['verified'][word] > 0 and vocab['unverified'][word] > 0}\n",
        "        \n",
        "        # Second, we take the sum of counts of words in this new dict\n",
        "        total = sum(probabilities[l_i].values())\n",
        "        \n",
        "        # Last, we turn the counts for each word into probabilities by dividing them by that sum\n",
        "        probabilities[l_i] = {word: probabilities[l_i][word] / total for word in probabilities[l_i]}\n",
        "    \n",
        "    return probabilities"
      ],
      "metadata": {
        "id": "Y1ZYZrSJhujO"
      },
      "execution_count": 116,
      "outputs": []
    },
    {
      "cell_type": "code",
      "source": [
        "# Train Naive Bayes without smoothing\n",
        "probabilities_unsmoothed = naive_bayes_unsmoothed(vocab_dicts, labels)"
      ],
      "metadata": {
        "id": "eoDcuTA8hzy6"
      },
      "execution_count": 117,
      "outputs": []
    },
    {
      "cell_type": "code",
      "source": [
        "def get_nb_predictions(categories, test_reviews, probabilities):\n",
        "\n",
        "    # Initialize lists for storing ground truth labels and predictions\n",
        "    lbls = list()\n",
        "    predictions = list()\n",
        "\n",
        "    # Loop over categories\n",
        "    for l_i in labels:\n",
        "\n",
        "        # Loop over test reviews\n",
        "        for review in test[test['label']==labels.index(l_i)]:\n",
        "\n",
        "            # Store ground truth\n",
        "            lbls.append(l_i)\n",
        "\n",
        "            # For each post, calculate scores for each of the two categories\n",
        "            scores = {'verified': 0, 'unverified': 0}\n",
        "            for word in review:\n",
        "                if word in probabilities[l_i]:\n",
        "                    scores[\"verified\"] += np.log(probabilities[\"verified\"][word])\n",
        "                    scores[\"unverified\"] += np.log(probabilities[\"unverified\"][word])\n",
        "\n",
        "            # Use higher score for prediction\n",
        "            predictions.append(max(scores.items(), key=operator.itemgetter(1))[0])\n",
        "\n",
        "    return lbls, predictions"
      ],
      "metadata": {
        "id": "uCC9KSQkh96V"
      },
      "execution_count": 118,
      "outputs": []
    },
    {
      "cell_type": "code",
      "source": [
        "lbls, predictions = get_nb_predictions(labels, test, probabilities_unsmoothed)"
      ],
      "metadata": {
        "id": "96RRFvqilFbj"
      },
      "execution_count": 119,
      "outputs": []
    },
    {
      "cell_type": "code",
      "source": [
        "print(\"Our classifier is {:.2%} accurate on the test set\".format(np.mean(pd.Series(lbls)==pd.Series(predictions))))"
      ],
      "metadata": {
        "colab": {
          "base_uri": "https://localhost:8080/",
          "height": 0
        },
        "id": "9WzjeBdplZGc",
        "outputId": "80ca878c-03ed-4f4d-bae9-99b3fed1148b"
      },
      "execution_count": 120,
      "outputs": [
        {
          "output_type": "stream",
          "name": "stdout",
          "text": [
            "Our classifier is 50.00% accurate on the test set\n"
          ]
        }
      ]
    },
    {
      "cell_type": "markdown",
      "source": [
        "## NB With Smoothing"
      ],
      "metadata": {
        "id": "zeDAzvLzNi3S"
      }
    },
    {
      "cell_type": "code",
      "source": [
        "# Naive Bayes with additive smoothing\n",
        "# Define function to get P(w|c_i), class-conditional propbabilities for w\n",
        "\n",
        "def naive_bayes_additive_smoothing(vocab, categories, smoothing_alpha):\n",
        "    \n",
        "    # Calculate unsmoothed probabilities\n",
        "    probabilities = dict()\n",
        "    \n",
        "    for l_i in labels:\n",
        "        \n",
        "        probabilities[l_i] = dict()\n",
        "        \n",
        "        # First, consider all words that are in the vocab for either class\n",
        "        for word in set(vocab[\"unverified\"]).union(set(vocab[\"verified\"])):\n",
        "            # If they do exist in the current class c_i, store their count --> 1st order model\n",
        "            if vocab[l_i][word]>0:\n",
        "                probabilities[l_i][word] = vocab[l_i][word]\n",
        "            else:\n",
        "                probabilities[l_i][word] = smoothing_alpha\n",
        "        \n",
        "        # Second, we take the sum of counts of words in this new dict\n",
        "        total = sum(probabilities[l_i].values())\n",
        "        \n",
        "        # Last, we turn the counts for each word into probabilities by dividing them by that sum\n",
        "        probabilities[l_i] = {word: probabilities[l_i][word] / total for word in probabilities[l_i]}\n",
        "    \n",
        "    return probabilities"
      ],
      "metadata": {
        "id": "Si5wpyjKNhTz"
      },
      "execution_count": 121,
      "outputs": []
    },
    {
      "cell_type": "code",
      "source": [
        "alpha = 0.000000001"
      ],
      "metadata": {
        "id": "Yj3W0nAyN0El"
      },
      "execution_count": 122,
      "outputs": []
    },
    {
      "cell_type": "code",
      "source": [
        "# Train\n",
        "probs = naive_bayes_additive_smoothing(vocab_dicts, labels, alpha)\n",
        "\n",
        "# Get predictions on dev set\n",
        "lbls, predictions = get_nb_predictions(labels, dev, probs)\n",
        "\n",
        "# Calculate and store macro F1 on test set\n",
        "f1_score(lbls, predictions, average=\"macro\")"
      ],
      "metadata": {
        "colab": {
          "base_uri": "https://localhost:8080/",
          "height": 0
        },
        "id": "KeZO4g4eOBtg",
        "outputId": "6438d333-fe86-43fb-c4bd-33b25bcd2e03"
      },
      "execution_count": 123,
      "outputs": [
        {
          "output_type": "execute_result",
          "data": {
            "text/plain": [
              "0.5"
            ]
          },
          "metadata": {},
          "execution_count": 123
        }
      ]
    },
    {
      "cell_type": "markdown",
      "source": [
        "## Bert Classifier"
      ],
      "metadata": {
        "id": "-fMhn2PO4ZPj"
      }
    },
    {
      "cell_type": "markdown",
      "source": [
        "#### Initialize Datasets and Model "
      ],
      "metadata": {
        "id": "QmNBPPhD_IMI"
      }
    },
    {
      "cell_type": "code",
      "source": [
        "# Define dataset class\n",
        "class BERTDataset(Dataset):\n",
        "\n",
        "    def __init__(self, data):\n",
        "        \n",
        "        # Initialize tokenizer\n",
        "        self.tok = BertTokenizer.from_pretrained('bert-base-uncased')\n",
        "        \n",
        "        # Truncate and encode reviews\n",
        "        self.reviews = list(data.text.apply(self.tok.encode, max_length=100, truncation=True))\n",
        "        \n",
        "        # Store labels\n",
        "        self.labels = list(data.label)\n",
        "\n",
        "    def __len__(self):\n",
        "        return len(self.labels)\n",
        "\n",
        "    def __getitem__(self, idx):\n",
        "        review = self.reviews[idx]\n",
        "        label = self.labels[idx]\n",
        "        return review, label"
      ],
      "metadata": {
        "id": "48Duw1zP4bfq"
      },
      "execution_count": 12,
      "outputs": []
    },
    {
      "cell_type": "code",
      "source": [
        "# Define collate function\n",
        "def bert_collate(batch):\n",
        "    \n",
        "    # Store batch size\n",
        "    batch_size = len(batch)\n",
        "    \n",
        "    # Separate review and labels\n",
        "    reviews = [r for r, _ in batch]\n",
        "    labels = torch.tensor([l for _, l in batch]).long()\n",
        "    \n",
        "    # Store length of longest review in batch\n",
        "    max_len = max(len(r) for r in reviews)\n",
        "    \n",
        "    # Create padded reviews and attention mask tensors \n",
        "    # (the latter to avoid performing attention on padding token indices)\n",
        "    reviews_pad = torch.zeros((batch_size, max_len)).long()\n",
        "    masks_pad = torch.zeros((batch_size, max_len)).long()\n",
        "    for i, r in enumerate(reviews):\n",
        "        reviews_pad[i, :len(r)] = torch.tensor(r)\n",
        "        masks_pad[i, :len(r)] = 1\n",
        "    \n",
        "    return reviews_pad, masks_pad, labels"
      ],
      "metadata": {
        "id": "NrT2MFud44Fn"
      },
      "execution_count": 13,
      "outputs": []
    },
    {
      "cell_type": "code",
      "source": [
        "# Define BERT classifier\n",
        "class BERTClassifier(nn.Module):\n",
        "\n",
        "    def __init__(self):\n",
        "        \n",
        "        # Define network layers\n",
        "        super(BERTClassifier, self).__init__()\n",
        "        self.bert = BertModel.from_pretrained('bert-base-uncased')\n",
        "        self.linear = nn.Linear(768, 4)\n",
        "        \n",
        "        # Define dropout\n",
        "        self.dropout = nn.Dropout(0.2)\n",
        "        \n",
        "        # Freeze BERT layers\n",
        "        for n, p in self.bert.named_parameters():\n",
        "            p.requires_grad = False\n",
        "\n",
        "    def forward(self, reviews, masks):\n",
        "        \n",
        "        # Define flow of tensors through network\n",
        "        output_bert = self.bert(reviews, attention_mask=masks)[0].mean(axis=1)\n",
        "        return self.linear(self.dropout(output_bert))"
      ],
      "metadata": {
        "id": "ufG3X2q55GP0"
      },
      "execution_count": 14,
      "outputs": []
    },
    {
      "cell_type": "code",
      "source": [
        "%%time\n",
        "\n",
        "# Create datasets\n",
        "train_dataset = BERTDataset(train)\n",
        "dev_dataset = BERTDataset(dev)\n",
        "test_dataset = BERTDataset(test)"
      ],
      "metadata": {
        "colab": {
          "base_uri": "https://localhost:8080/",
          "height": 0
        },
        "id": "4_k5XFsY54AT",
        "outputId": "fd2b51fb-43ad-4b99-f735-8f88aa6d2f78"
      },
      "execution_count": 15,
      "outputs": [
        {
          "output_type": "stream",
          "name": "stdout",
          "text": [
            "CPU times: user 872 ms, sys: 23.2 ms, total: 895 ms\n",
            "Wall time: 12 s\n"
          ]
        }
      ]
    },
    {
      "cell_type": "code",
      "source": [
        "# Create data loaders\n",
        "train_loader = DataLoader(train_dataset, batch_size=100, collate_fn=bert_collate, shuffle=True)\n",
        "dev_loader = DataLoader(dev_dataset, batch_size=100, collate_fn=bert_collate)\n",
        "test_loader = DataLoader(test_dataset, batch_size=100, collate_fn=bert_collate)"
      ],
      "metadata": {
        "id": "qaPa6rla6FJ_"
      },
      "execution_count": 16,
      "outputs": []
    },
    {
      "cell_type": "code",
      "source": [
        "# Initialize model\n",
        "model = BERTClassifier()"
      ],
      "metadata": {
        "colab": {
          "base_uri": "https://localhost:8080/",
          "height": 0
        },
        "id": "oOQJYk2K6LIM",
        "outputId": "76ddb6ad-519a-497a-870b-33681ea08ae0"
      },
      "execution_count": 17,
      "outputs": [
        {
          "output_type": "stream",
          "name": "stderr",
          "text": [
            "Some weights of the model checkpoint at bert-base-uncased were not used when initializing BertModel: ['cls.predictions.bias', 'cls.seq_relationship.bias', 'cls.predictions.transform.LayerNorm.bias', 'cls.predictions.transform.dense.bias', 'cls.predictions.transform.dense.weight', 'cls.predictions.decoder.weight', 'cls.seq_relationship.weight', 'cls.predictions.transform.LayerNorm.weight']\n",
            "- This IS expected if you are initializing BertModel from the checkpoint of a model trained on another task or with another architecture (e.g. initializing a BertForSequenceClassification model from a BertForPreTraining model).\n",
            "- This IS NOT expected if you are initializing BertModel from the checkpoint of a model that you expect to be exactly identical (initializing a BertForSequenceClassification model from a BertForSequenceClassification model).\n"
          ]
        }
      ]
    },
    {
      "cell_type": "code",
      "source": [
        "# Define optimizer and training objective\n",
        "optimizer = optim.Adam(model.parameters(), lr=0.01)\n",
        "criterion = nn.CrossEntropyLoss()"
      ],
      "metadata": {
        "id": "1PnpZS9s6M96"
      },
      "execution_count": 18,
      "outputs": []
    },
    {
      "cell_type": "markdown",
      "source": [
        "#### Train model"
      ],
      "metadata": {
        "id": "z60VJw0P_D1t"
      }
    },
    {
      "cell_type": "code",
      "source": [
        "# Define device and move model to CUDA if available\n",
        "device = torch.device('cuda' if torch.cuda.is_available() else 'cpu')\n",
        "model = model.to(device)"
      ],
      "metadata": {
        "id": "Z0aZkMHm6UNu"
      },
      "execution_count": 19,
      "outputs": []
    },
    {
      "cell_type": "code",
      "source": [
        "%%time\n",
        "\n",
        "# Train model\n",
        "for e in range(1, 6):\n",
        "\n",
        "    model.train()\n",
        "\n",
        "    for i, b in enumerate(tqdm(train_loader)):\n",
        "\n",
        "        # Perform forward pass\n",
        "        optimizer.zero_grad()\n",
        "        reviews, masks, lbls = [t.to(device) for t in b]\n",
        "        output = model(reviews, masks)\n",
        "        loss = criterion(output, lbls)\n",
        "        \n",
        "        # Perform backpropagation and update weights\n",
        "        loss.backward()\n",
        "        optimizer.step()\n",
        "  \n",
        "    # Evaluate model on development data\n",
        "    model.eval()\n",
        "\n",
        "    y_true = list()\n",
        "    y_pred = list()\n",
        "\n",
        "    with torch.no_grad():\n",
        "        for b in dev_loader:\n",
        "            reviews, masks, lbls = [t.to(device) for t in b]\n",
        "            output = model(reviews, masks)\n",
        "            max_output = output.argmax(dim=1)\n",
        "            y_true.extend(lbls.tolist())\n",
        "            y_pred.extend(max_output.tolist())\n",
        "            \n",
        "    print('Accuracy after {} epoch(s): {:.2f}'.format(e, accuracy_score(y_true, y_pred)))"
      ],
      "metadata": {
        "colab": {
          "base_uri": "https://localhost:8080/",
          "height": 0
        },
        "id": "fqspVuHw6Vru",
        "outputId": "c781d823-14c1-4b16-d275-2e4ba6e407bc"
      },
      "execution_count": 20,
      "outputs": [
        {
          "output_type": "stream",
          "name": "stderr",
          "text": [
            "100%|██████████| 4/4 [00:01<00:00,  3.98it/s]\n"
          ]
        },
        {
          "output_type": "stream",
          "name": "stdout",
          "text": [
            "Accuracy after 1 epoch(s): 0.62\n"
          ]
        },
        {
          "output_type": "stream",
          "name": "stderr",
          "text": [
            "100%|██████████| 4/4 [00:00<00:00,  4.31it/s]\n"
          ]
        },
        {
          "output_type": "stream",
          "name": "stdout",
          "text": [
            "Accuracy after 2 epoch(s): 0.65\n"
          ]
        },
        {
          "output_type": "stream",
          "name": "stderr",
          "text": [
            "100%|██████████| 4/4 [00:00<00:00,  4.33it/s]\n"
          ]
        },
        {
          "output_type": "stream",
          "name": "stdout",
          "text": [
            "Accuracy after 3 epoch(s): 0.60\n"
          ]
        },
        {
          "output_type": "stream",
          "name": "stderr",
          "text": [
            "100%|██████████| 4/4 [00:00<00:00,  4.33it/s]\n"
          ]
        },
        {
          "output_type": "stream",
          "name": "stdout",
          "text": [
            "Accuracy after 4 epoch(s): 0.62\n"
          ]
        },
        {
          "output_type": "stream",
          "name": "stderr",
          "text": [
            "100%|██████████| 4/4 [00:00<00:00,  4.31it/s]"
          ]
        },
        {
          "output_type": "stream",
          "name": "stdout",
          "text": [
            "Accuracy after 5 epoch(s): 0.65\n",
            "CPU times: user 5.53 s, sys: 81.8 ms, total: 5.61 s\n",
            "Wall time: 5.63 s\n"
          ]
        },
        {
          "output_type": "stream",
          "name": "stderr",
          "text": [
            "\n"
          ]
        }
      ]
    },
    {
      "cell_type": "markdown",
      "source": [
        "#### Test model"
      ],
      "metadata": {
        "id": "KRl-B0pD-9yg"
      }
    },
    {
      "cell_type": "code",
      "source": [
        "%%time\n",
        "\n",
        "# Evaluate model on test data\n",
        "model.eval()\n",
        "\n",
        "y_true = list()\n",
        "y_pred = list()\n",
        "\n",
        "with torch.no_grad():\n",
        "    for b in test_loader:\n",
        "        reviews, masks, lbls = [t.to(device) for t in b]\n",
        "        output = model(reviews, masks)\n",
        "        max_output = output.argmax(dim=1)\n",
        "        y_true.extend(lbls.tolist())\n",
        "        y_pred.extend(max_output.tolist())\n",
        "\n",
        "print('Test accuracy: {:.2f}'.format(accuracy_score(y_true, y_pred)))"
      ],
      "metadata": {
        "colab": {
          "base_uri": "https://localhost:8080/",
          "height": 0
        },
        "id": "EdngLIsa6sa6",
        "outputId": "59f10296-7f5d-4261-89cf-6c2eca27e931"
      },
      "execution_count": 21,
      "outputs": [
        {
          "output_type": "stream",
          "name": "stdout",
          "text": [
            "Test accuracy: 0.78\n",
            "CPU times: user 142 ms, sys: 21 µs, total: 142 ms\n",
            "Wall time: 141 ms\n"
          ]
        }
      ]
    },
    {
      "cell_type": "markdown",
      "source": [
        "#### Confusion Matrix"
      ],
      "metadata": {
        "id": "KnfIvVqx_rtl"
      }
    },
    {
      "cell_type": "code",
      "source": [
        "# Initialize confusion matrix\n",
        "c_matrix = defaultdict(Counter)\n",
        "\n",
        "# Fill confusion matrix\n",
        "for t, p in zip(y_true, y_pred):\n",
        "    c_matrix[id2label[t]][id2label[p]] += 1\n",
        "\n",
        "# Display confusion matrix\n",
        "pd.DataFrame.from_dict(c_matrix, orient='index', columns=labels).reindex(index=labels)"
      ],
      "metadata": {
        "colab": {
          "base_uri": "https://localhost:8080/",
          "height": 112
        },
        "id": "l2p3ObZP_meZ",
        "outputId": "d5729371-f505-4b8d-e1da-38144fb74925"
      },
      "execution_count": 22,
      "outputs": [
        {
          "output_type": "execute_result",
          "data": {
            "text/plain": [
              "            unverified  verified\n",
              "unverified          14         6\n",
              "verified             3        17"
            ],
            "text/html": [
              "\n",
              "  <div id=\"df-0f4800b8-0dda-49a3-a5cf-6b91767424aa\">\n",
              "    <div class=\"colab-df-container\">\n",
              "      <div>\n",
              "<style scoped>\n",
              "    .dataframe tbody tr th:only-of-type {\n",
              "        vertical-align: middle;\n",
              "    }\n",
              "\n",
              "    .dataframe tbody tr th {\n",
              "        vertical-align: top;\n",
              "    }\n",
              "\n",
              "    .dataframe thead th {\n",
              "        text-align: right;\n",
              "    }\n",
              "</style>\n",
              "<table border=\"1\" class=\"dataframe\">\n",
              "  <thead>\n",
              "    <tr style=\"text-align: right;\">\n",
              "      <th></th>\n",
              "      <th>unverified</th>\n",
              "      <th>verified</th>\n",
              "    </tr>\n",
              "  </thead>\n",
              "  <tbody>\n",
              "    <tr>\n",
              "      <th>unverified</th>\n",
              "      <td>14</td>\n",
              "      <td>6</td>\n",
              "    </tr>\n",
              "    <tr>\n",
              "      <th>verified</th>\n",
              "      <td>3</td>\n",
              "      <td>17</td>\n",
              "    </tr>\n",
              "  </tbody>\n",
              "</table>\n",
              "</div>\n",
              "      <button class=\"colab-df-convert\" onclick=\"convertToInteractive('df-0f4800b8-0dda-49a3-a5cf-6b91767424aa')\"\n",
              "              title=\"Convert this dataframe to an interactive table.\"\n",
              "              style=\"display:none;\">\n",
              "        \n",
              "  <svg xmlns=\"http://www.w3.org/2000/svg\" height=\"24px\"viewBox=\"0 0 24 24\"\n",
              "       width=\"24px\">\n",
              "    <path d=\"M0 0h24v24H0V0z\" fill=\"none\"/>\n",
              "    <path d=\"M18.56 5.44l.94 2.06.94-2.06 2.06-.94-2.06-.94-.94-2.06-.94 2.06-2.06.94zm-11 1L8.5 8.5l.94-2.06 2.06-.94-2.06-.94L8.5 2.5l-.94 2.06-2.06.94zm10 10l.94 2.06.94-2.06 2.06-.94-2.06-.94-.94-2.06-.94 2.06-2.06.94z\"/><path d=\"M17.41 7.96l-1.37-1.37c-.4-.4-.92-.59-1.43-.59-.52 0-1.04.2-1.43.59L10.3 9.45l-7.72 7.72c-.78.78-.78 2.05 0 2.83L4 21.41c.39.39.9.59 1.41.59.51 0 1.02-.2 1.41-.59l7.78-7.78 2.81-2.81c.8-.78.8-2.07 0-2.86zM5.41 20L4 18.59l7.72-7.72 1.47 1.35L5.41 20z\"/>\n",
              "  </svg>\n",
              "      </button>\n",
              "      \n",
              "  <style>\n",
              "    .colab-df-container {\n",
              "      display:flex;\n",
              "      flex-wrap:wrap;\n",
              "      gap: 12px;\n",
              "    }\n",
              "\n",
              "    .colab-df-convert {\n",
              "      background-color: #E8F0FE;\n",
              "      border: none;\n",
              "      border-radius: 50%;\n",
              "      cursor: pointer;\n",
              "      display: none;\n",
              "      fill: #1967D2;\n",
              "      height: 32px;\n",
              "      padding: 0 0 0 0;\n",
              "      width: 32px;\n",
              "    }\n",
              "\n",
              "    .colab-df-convert:hover {\n",
              "      background-color: #E2EBFA;\n",
              "      box-shadow: 0px 1px 2px rgba(60, 64, 67, 0.3), 0px 1px 3px 1px rgba(60, 64, 67, 0.15);\n",
              "      fill: #174EA6;\n",
              "    }\n",
              "\n",
              "    [theme=dark] .colab-df-convert {\n",
              "      background-color: #3B4455;\n",
              "      fill: #D2E3FC;\n",
              "    }\n",
              "\n",
              "    [theme=dark] .colab-df-convert:hover {\n",
              "      background-color: #434B5C;\n",
              "      box-shadow: 0px 1px 3px 1px rgba(0, 0, 0, 0.15);\n",
              "      filter: drop-shadow(0px 1px 2px rgba(0, 0, 0, 0.3));\n",
              "      fill: #FFFFFF;\n",
              "    }\n",
              "  </style>\n",
              "\n",
              "      <script>\n",
              "        const buttonEl =\n",
              "          document.querySelector('#df-0f4800b8-0dda-49a3-a5cf-6b91767424aa button.colab-df-convert');\n",
              "        buttonEl.style.display =\n",
              "          google.colab.kernel.accessAllowed ? 'block' : 'none';\n",
              "\n",
              "        async function convertToInteractive(key) {\n",
              "          const element = document.querySelector('#df-0f4800b8-0dda-49a3-a5cf-6b91767424aa');\n",
              "          const dataTable =\n",
              "            await google.colab.kernel.invokeFunction('convertToInteractive',\n",
              "                                                     [key], {});\n",
              "          if (!dataTable) return;\n",
              "\n",
              "          const docLinkHtml = 'Like what you see? Visit the ' +\n",
              "            '<a target=\"_blank\" href=https://colab.research.google.com/notebooks/data_table.ipynb>data table notebook</a>'\n",
              "            + ' to learn more about interactive tables.';\n",
              "          element.innerHTML = '';\n",
              "          dataTable['output_type'] = 'display_data';\n",
              "          await google.colab.output.renderOutput(dataTable, element);\n",
              "          const docLink = document.createElement('div');\n",
              "          docLink.innerHTML = docLinkHtml;\n",
              "          element.appendChild(docLink);\n",
              "        }\n",
              "      </script>\n",
              "    </div>\n",
              "  </div>\n",
              "  "
            ]
          },
          "metadata": {},
          "execution_count": 22
        }
      ]
    }
  ]
}